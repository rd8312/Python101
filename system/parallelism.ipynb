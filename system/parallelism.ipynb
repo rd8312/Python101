{
 "cells": [
  {
   "cell_type": "code",
   "execution_count": 7,
   "metadata": {},
   "outputs": [
    {
     "data": {
      "text/plain": [
       "18104"
      ]
     },
     "execution_count": 7,
     "metadata": {},
     "output_type": "execute_result"
    }
   ],
   "source": [
    "import os\n",
    "os.getpid()"
   ]
  },
  {
   "cell_type": "code",
   "execution_count": 8,
   "metadata": {},
   "outputs": [
    {
     "data": {
      "text/plain": [
       "'d:\\\\Python101\\\\system'"
      ]
     },
     "execution_count": 8,
     "metadata": {},
     "output_type": "execute_result"
    }
   ],
   "source": [
    "os.getcwd()"
   ]
  },
  {
   "cell_type": "code",
   "execution_count": null,
   "metadata": {},
   "outputs": [],
   "source": []
  },
  {
   "cell_type": "code",
   "execution_count": null,
   "metadata": {},
   "outputs": [],
   "source": []
  },
  {
   "cell_type": "code",
   "execution_count": null,
   "metadata": {},
   "outputs": [],
   "source": []
  },
  {
   "cell_type": "code",
   "execution_count": null,
   "metadata": {},
   "outputs": [],
   "source": []
  },
  {
   "cell_type": "code",
   "execution_count": null,
   "metadata": {},
   "outputs": [],
   "source": []
  },
  {
   "cell_type": "code",
   "execution_count": 1,
   "metadata": {},
   "outputs": [
    {
     "name": "stdout",
     "output_type": "stream",
     "text": [
      "0\n",
      "1\n",
      "2\n",
      "3\n",
      "4\n",
      "0\n",
      "1\n",
      "2\n",
      "3\n",
      "4\n",
      "5\n",
      "6\n",
      "7\n",
      "8\n",
      "9\n",
      "It costs 15.117132663726807 s\n"
     ]
    }
   ],
   "source": [
    "# rdf : https://medium.com/%E7%A8%8B%E5%BC%8F%E4%B9%BE%E8%B2%A8/python-%E4%B8%A6%E8%A1%8C%E8%88%87%E5%B9%B3%E8%A1%8C-%E5%BD%B1%E5%88%86%E8%BA%AB%E4%B9%8B%E8%A1%93-2b8238916297\n",
    "\n",
    "import time\n",
    "\n",
    "def sleep_5():\n",
    "    for i in range(0, 5):\n",
    "        print(i)\n",
    "        time.sleep(1)\n",
    "    return\n",
    "\n",
    "def sleep_10():\n",
    "    for i in range(0, 10):\n",
    "        print(i)\n",
    "        time.sleep(1)\n",
    "    return\n",
    "\n",
    "start_time = time.time()\n",
    "sleep_5()\n",
    "sleep_10()\n",
    "end_time = time.time()\n",
    "print('It costs '+str(end_time - start_time)+' s')"
   ]
  },
  {
   "cell_type": "code",
   "execution_count": 6,
   "metadata": {},
   "outputs": [
    {
     "name": "stdout",
     "output_type": "stream",
     "text": [
      "It costs 0.11664962768554688 s\n"
     ]
    }
   ],
   "source": [
    "import time\n",
    "import multiprocessing as mp\n",
    "\n",
    "def sleep_5():\n",
    "    for i in range(0, 5):\n",
    "        print(i)\n",
    "        time.sleep(1)\n",
    "    return\n",
    "\n",
    "def sleep_10():\n",
    "    for i in range(0, 10):\n",
    "        print(i)\n",
    "        time.sleep(1)\n",
    "    return\n",
    "  \n",
    "p1 = mp.Process(target=sleep_5)\n",
    "p2 = mp.Process(target=sleep_10)\n",
    "start_time = time.time()\n",
    "p1.start()\n",
    "p2.start()\n",
    "p1.join()\n",
    "p2.join()\n",
    "end_time = time.time()\n",
    "print('It costs '+str(end_time - start_time)+' s')"
   ]
  },
  {
   "cell_type": "code",
   "execution_count": null,
   "metadata": {},
   "outputs": [],
   "source": []
  },
  {
   "cell_type": "code",
   "execution_count": null,
   "metadata": {},
   "outputs": [],
   "source": [
    "# ref : https://minghsu.io/posts/python-parallel/\n",
    "\n",
    "from multiprocessing import Pool\n",
    "from multiprocessing import cpu_count\n",
    "\n",
    "def demo(a: int, b: int):\n",
    "    print(f'{a} + {b} = {a+b}')\n",
    "    return a + b\n",
    "\n",
    "def pool_sync():\n",
    "    pool_sz = cpu_count()\n",
    "    with Pool(pool_sz) as p:\n",
    "        res = p.starmap(demo, [(i, i) for i in range(10)])\n",
    "        p.close()\n",
    "        p.join()\n",
    "\n",
    "    print(res)\n",
    "\n",
    "def pool_async():\n",
    "    pool_sz = cpu_count()\n",
    "    with Pool(pool_sz) as p:\n",
    "        # returns immediately\n",
    "        cb = p.starmap_async(demo, [(i, i) for i in range(10)])\n",
    "        res = cb.get()\n",
    "        p.close()\n",
    "        p.join()\n",
    "\n",
    "    print(res)\n",
    "\n",
    "if __name__ == '__main__':\n",
    "    pool_sync()\n",
    "    pool_async()"
   ]
  },
  {
   "cell_type": "code",
   "execution_count": null,
   "metadata": {},
   "outputs": [],
   "source": []
  }
 ],
 "metadata": {
  "kernelspec": {
   "display_name": "base",
   "language": "python",
   "name": "python3"
  },
  "language_info": {
   "codemirror_mode": {
    "name": "ipython",
    "version": 3
   },
   "file_extension": ".py",
   "mimetype": "text/x-python",
   "name": "python",
   "nbconvert_exporter": "python",
   "pygments_lexer": "ipython3",
   "version": "3.8.13"
  },
  "orig_nbformat": 4,
  "vscode": {
   "interpreter": {
    "hash": "58593913881abfeee856f0be1eafde634857509d35118a6adb9cda25bf431125"
   }
  }
 },
 "nbformat": 4,
 "nbformat_minor": 2
}
