{
 "cells": [
  {
   "cell_type": "code",
   "execution_count": 1,
   "metadata": {},
   "outputs": [
    {
     "name": "stdout",
     "output_type": "stream",
     "text": [
      "0\n",
      "1\n",
      "2\n",
      "3\n",
      "4\n",
      "0\n",
      "1\n",
      "2\n",
      "3\n",
      "4\n",
      "5\n",
      "6\n",
      "7\n",
      "8\n",
      "9\n",
      "It costs 15.217007160186768 s\n"
     ]
    }
   ],
   "source": [
    "import time\n",
    "\n",
    "def sleep_5():\n",
    "    for i in range(0, 5):\n",
    "        print(i)\n",
    "        time.sleep(1)\n",
    "    return\n",
    "\n",
    "def sleep_10():\n",
    "    for i in range(0, 10):\n",
    "        print(i)\n",
    "        time.sleep(1)\n",
    "    return\n",
    "\n",
    "start_time = time.time()\n",
    "sleep_5()\n",
    "sleep_10()\n",
    "end_time = time.time()\n",
    "print('It costs '+str(end_time - start_time)+' s')"
   ]
  },
  {
   "cell_type": "code",
   "execution_count": 2,
   "metadata": {},
   "outputs": [
    {
     "name": "stdout",
     "output_type": "stream",
     "text": [
      "0\n",
      "0\n",
      "1\n",
      "1\n",
      "2\n",
      "2\n",
      "3\n",
      "3\n",
      "4\n",
      "4\n",
      "5\n",
      "6\n",
      "7\n",
      "8\n",
      "9\n",
      "It costs 10.091187238693237 s\n"
     ]
    }
   ],
   "source": [
    "import threading\n",
    "\n",
    "def sleep_5():\n",
    "    for i in range(0, 5):\n",
    "        print(i)\n",
    "        time.sleep(1)\n",
    "    return\n",
    "\n",
    "def sleep_10():\n",
    "    for i in range(0, 10):\n",
    "        print(i)\n",
    "        time.sleep(1)\n",
    "    return\n",
    "  \n",
    "start_time = time.time()\n",
    "\n",
    "thread_1 = threading.Thread(target=sleep_5)  # implement a thread 1\n",
    "thread_2 = threading.Thread(target=sleep_10) # implement a thread 2\n",
    "thread_1.start()  # start thread 1\n",
    "thread_2.start()  # start thread 2\n",
    "thread_1.join()  # wait thread 1 finished. If not join, the process will continue.\n",
    "thread_2.join()  # wait thread 2 finished. If not join, the process will continue.\n",
    "\n",
    "end_time = time.time()\n",
    "print('It costs '+str(end_time - start_time)+' s')"
   ]
  },
  {
   "cell_type": "code",
   "execution_count": null,
   "metadata": {},
   "outputs": [],
   "source": []
  }
 ],
 "metadata": {
  "kernelspec": {
   "display_name": "base",
   "language": "python",
   "name": "python3"
  },
  "language_info": {
   "codemirror_mode": {
    "name": "ipython",
    "version": 3
   },
   "file_extension": ".py",
   "mimetype": "text/x-python",
   "name": "python",
   "nbconvert_exporter": "python",
   "pygments_lexer": "ipython3",
   "version": "3.8.13"
  },
  "orig_nbformat": 4,
  "vscode": {
   "interpreter": {
    "hash": "58593913881abfeee856f0be1eafde634857509d35118a6adb9cda25bf431125"
   }
  }
 },
 "nbformat": 4,
 "nbformat_minor": 2
}
