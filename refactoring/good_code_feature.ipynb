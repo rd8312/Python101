{
 "cells": [
  {
   "cell_type": "code",
   "execution_count": null,
   "metadata": {},
   "outputs": [],
   "source": []
  },
  {
   "cell_type": "code",
   "execution_count": null,
   "metadata": {},
   "outputs": [],
   "source": []
  },
  {
   "cell_type": "markdown",
   "metadata": {},
   "source": [
    "## function argument"
   ]
  },
  {
   "cell_type": "code",
   "execution_count": 1,
   "metadata": {},
   "outputs": [],
   "source": [
    "def function(argument):\n",
    "    argument += \" in function\" # \"string\" object is immutable, so it will create a new object.\n",
    "    print(argument) # a new local variable \"argument\", which is assigned by {argument += \" in function\"}"
   ]
  },
  {
   "cell_type": "code",
   "execution_count": 2,
   "metadata": {},
   "outputs": [
    {
     "name": "stdout",
     "output_type": "stream",
     "text": [
      "hello in function\n"
     ]
    }
   ],
   "source": [
    "immutable = \"hello\"\n",
    "function(immutable)"
   ]
  },
  {
   "cell_type": "code",
   "execution_count": 3,
   "metadata": {},
   "outputs": [
    {
     "data": {
      "text/plain": [
       "['h', 'e', 'l', 'l', 'o']"
      ]
     },
     "execution_count": 3,
     "metadata": {},
     "output_type": "execute_result"
    }
   ],
   "source": [
    "mutable = list(\"hello\")\n",
    "mutable"
   ]
  },
  {
   "cell_type": "code",
   "execution_count": 4,
   "metadata": {},
   "outputs": [
    {
     "data": {
      "text/plain": [
       "'hello'"
      ]
     },
     "execution_count": 4,
     "metadata": {},
     "output_type": "execute_result"
    }
   ],
   "source": [
    "immutable"
   ]
  },
  {
   "cell_type": "code",
   "execution_count": 5,
   "metadata": {},
   "outputs": [
    {
     "name": "stdout",
     "output_type": "stream",
     "text": [
      "['h', 'e', 'l', 'l', 'o', ' ', 'i', 'n', ' ', 'f', 'u', 'n', 'c', 't', 'i', 'o', 'n']\n"
     ]
    }
   ],
   "source": [
    "function(mutable)"
   ]
  },
  {
   "cell_type": "code",
   "execution_count": 6,
   "metadata": {},
   "outputs": [
    {
     "data": {
      "text/plain": [
       "['h',\n",
       " 'e',\n",
       " 'l',\n",
       " 'l',\n",
       " 'o',\n",
       " ' ',\n",
       " 'i',\n",
       " 'n',\n",
       " ' ',\n",
       " 'f',\n",
       " 'u',\n",
       " 'n',\n",
       " 'c',\n",
       " 't',\n",
       " 'i',\n",
       " 'o',\n",
       " 'n']"
      ]
     },
     "execution_count": 6,
     "metadata": {},
     "output_type": "execute_result"
    }
   ],
   "source": [
    "mutable"
   ]
  },
  {
   "cell_type": "code",
   "execution_count": 9,
   "metadata": {},
   "outputs": [
    {
     "name": "stdout",
     "output_type": "stream",
     "text": [
      "{'test1': 'test1'}\n"
     ]
    }
   ],
   "source": [
    "dictionary = {}\n",
    "def function(argument, key):\n",
    "    argument[key] = key\n",
    "    print(argument)\n",
    "    \n",
    "function(dictionary, \"test1\")"
   ]
  },
  {
   "cell_type": "code",
   "execution_count": 10,
   "metadata": {},
   "outputs": [
    {
     "name": "stdout",
     "output_type": "stream",
     "text": [
      "{'test1': 'test1', 'test2': 'test2'}\n"
     ]
    }
   ],
   "source": [
    "function(dictionary, \"test2\")"
   ]
  },
  {
   "cell_type": "markdown",
   "metadata": {},
   "source": [
    "## the mutable number of arguemnets"
   ]
  },
  {
   "cell_type": "code",
   "execution_count": 11,
   "metadata": {},
   "outputs": [],
   "source": [
    "def f(first, second, third):\n",
    "    print(first)\n",
    "    print(second)\n",
    "    print(third)"
   ]
  },
  {
   "cell_type": "code",
   "execution_count": 12,
   "metadata": {},
   "outputs": [],
   "source": [
    "l = [1, 2, 3]"
   ]
  },
  {
   "cell_type": "code",
   "execution_count": 14,
   "metadata": {},
   "outputs": [
    {
     "ename": "TypeError",
     "evalue": "f() missing 2 required positional arguments: 'second' and 'third'",
     "output_type": "error",
     "traceback": [
      "\u001b[1;31m---------------------------------------------------------------------------\u001b[0m",
      "\u001b[1;31mTypeError\u001b[0m                                 Traceback (most recent call last)",
      "Cell \u001b[1;32mIn[14], line 1\u001b[0m\n\u001b[1;32m----> 1\u001b[0m \u001b[43mf\u001b[49m\u001b[43m(\u001b[49m\u001b[43ml\u001b[49m\u001b[43m)\u001b[49m\n",
      "\u001b[1;31mTypeError\u001b[0m: f() missing 2 required positional arguments: 'second' and 'third'"
     ]
    }
   ],
   "source": [
    "f(l)"
   ]
  },
  {
   "cell_type": "code",
   "execution_count": 13,
   "metadata": {},
   "outputs": [
    {
     "name": "stdout",
     "output_type": "stream",
     "text": [
      "1\n",
      "2\n",
      "3\n"
     ]
    }
   ],
   "source": [
    "f(*l)"
   ]
  },
  {
   "cell_type": "code",
   "execution_count": 15,
   "metadata": {},
   "outputs": [],
   "source": [
    "a, b , c = l"
   ]
  },
  {
   "cell_type": "code",
   "execution_count": 16,
   "metadata": {},
   "outputs": [
    {
     "data": {
      "text/plain": [
       "1"
      ]
     },
     "execution_count": 16,
     "metadata": {},
     "output_type": "execute_result"
    }
   ],
   "source": [
    "a"
   ]
  },
  {
   "cell_type": "code",
   "execution_count": 17,
   "metadata": {},
   "outputs": [
    {
     "data": {
      "text/plain": [
       "2"
      ]
     },
     "execution_count": 17,
     "metadata": {},
     "output_type": "execute_result"
    }
   ],
   "source": [
    "b"
   ]
  },
  {
   "cell_type": "code",
   "execution_count": 18,
   "metadata": {},
   "outputs": [
    {
     "data": {
      "text/plain": [
       "3"
      ]
     },
     "execution_count": 18,
     "metadata": {},
     "output_type": "execute_result"
    }
   ],
   "source": [
    "c"
   ]
  },
  {
   "cell_type": "code",
   "execution_count": 19,
   "metadata": {},
   "outputs": [],
   "source": [
    "# partial set\n",
    "def show(e, rest):\n",
    "    print(\"Element: {0} - Rest: {1}\".format(e, rest))"
   ]
  },
  {
   "cell_type": "code",
   "execution_count": 20,
   "metadata": {},
   "outputs": [],
   "source": [
    "first, *rest = [1, 2, 3, 4, 5]"
   ]
  },
  {
   "cell_type": "code",
   "execution_count": 22,
   "metadata": {},
   "outputs": [
    {
     "ename": "ValueError",
     "evalue": "too many values to unpack (expected 2)",
     "output_type": "error",
     "traceback": [
      "\u001b[1;31m---------------------------------------------------------------------------\u001b[0m",
      "\u001b[1;31mValueError\u001b[0m                                Traceback (most recent call last)",
      "Cell \u001b[1;32mIn[22], line 1\u001b[0m\n\u001b[1;32m----> 1\u001b[0m first, rest \u001b[38;5;241m=\u001b[39m [\u001b[38;5;241m1\u001b[39m, \u001b[38;5;241m2\u001b[39m, \u001b[38;5;241m3\u001b[39m, \u001b[38;5;241m4\u001b[39m, \u001b[38;5;241m5\u001b[39m]\n",
      "\u001b[1;31mValueError\u001b[0m: too many values to unpack (expected 2)"
     ]
    }
   ],
   "source": [
    "first, rest = [1, 2, 3, 4, 5]"
   ]
  },
  {
   "cell_type": "code",
   "execution_count": 21,
   "metadata": {},
   "outputs": [
    {
     "name": "stdout",
     "output_type": "stream",
     "text": [
      "Element: 1 - Rest: [2, 3, 4, 5]\n"
     ]
    }
   ],
   "source": [
    "show(first, rest)"
   ]
  },
  {
   "cell_type": "code",
   "execution_count": 23,
   "metadata": {},
   "outputs": [],
   "source": [
    "*rest, last = range(6)"
   ]
  },
  {
   "cell_type": "code",
   "execution_count": 24,
   "metadata": {},
   "outputs": [
    {
     "name": "stdout",
     "output_type": "stream",
     "text": [
      "Element: 5 - Rest: [0, 1, 2, 3, 4]\n"
     ]
    }
   ],
   "source": [
    "show(last, rest)"
   ]
  },
  {
   "cell_type": "code",
   "execution_count": 27,
   "metadata": {},
   "outputs": [],
   "source": [
    "first, *middle, last = range(6)"
   ]
  },
  {
   "cell_type": "code",
   "execution_count": 28,
   "metadata": {},
   "outputs": [
    {
     "data": {
      "text/plain": [
       "0"
      ]
     },
     "execution_count": 28,
     "metadata": {},
     "output_type": "execute_result"
    }
   ],
   "source": [
    "first"
   ]
  },
  {
   "cell_type": "code",
   "execution_count": 29,
   "metadata": {},
   "outputs": [
    {
     "data": {
      "text/plain": [
       "[1, 2, 3, 4]"
      ]
     },
     "execution_count": 29,
     "metadata": {},
     "output_type": "execute_result"
    }
   ],
   "source": [
    "middle"
   ]
  },
  {
   "cell_type": "code",
   "execution_count": 30,
   "metadata": {},
   "outputs": [
    {
     "data": {
      "text/plain": [
       "5"
      ]
     },
     "execution_count": 30,
     "metadata": {},
     "output_type": "execute_result"
    }
   ],
   "source": [
    "last"
   ]
  },
  {
   "cell_type": "code",
   "execution_count": 31,
   "metadata": {},
   "outputs": [],
   "source": [
    "first, last, *empty = (1, 2)"
   ]
  },
  {
   "cell_type": "code",
   "execution_count": 32,
   "metadata": {},
   "outputs": [
    {
     "data": {
      "text/plain": [
       "1"
      ]
     },
     "execution_count": 32,
     "metadata": {},
     "output_type": "execute_result"
    }
   ],
   "source": [
    "first"
   ]
  },
  {
   "cell_type": "code",
   "execution_count": 33,
   "metadata": {},
   "outputs": [
    {
     "data": {
      "text/plain": [
       "2"
      ]
     },
     "execution_count": 33,
     "metadata": {},
     "output_type": "execute_result"
    }
   ],
   "source": [
    "last"
   ]
  },
  {
   "cell_type": "code",
   "execution_count": 34,
   "metadata": {},
   "outputs": [
    {
     "data": {
      "text/plain": [
       "[]"
      ]
     },
     "execution_count": 34,
     "metadata": {},
     "output_type": "execute_result"
    }
   ],
   "source": [
    "empty"
   ]
  },
  {
   "cell_type": "code",
   "execution_count": 37,
   "metadata": {},
   "outputs": [],
   "source": [
    "USERS = [(i, f\"first_name_{i}\", \"last_name_{i}\") for i in range(1000)]"
   ]
  },
  {
   "cell_type": "code",
   "execution_count": 38,
   "metadata": {
    "scrolled": true,
    "tags": []
   },
   "outputs": [
    {
     "data": {
      "text/plain": [
       "[(0, 'first_name_0', 'last_name_{i}'),\n",
       " (1, 'first_name_1', 'last_name_{i}'),\n",
       " (2, 'first_name_2', 'last_name_{i}'),\n",
       " (3, 'first_name_3', 'last_name_{i}'),\n",
       " (4, 'first_name_4', 'last_name_{i}'),\n",
       " (5, 'first_name_5', 'last_name_{i}'),\n",
       " (6, 'first_name_6', 'last_name_{i}'),\n",
       " (7, 'first_name_7', 'last_name_{i}'),\n",
       " (8, 'first_name_8', 'last_name_{i}'),\n",
       " (9, 'first_name_9', 'last_name_{i}'),\n",
       " (10, 'first_name_10', 'last_name_{i}'),\n",
       " (11, 'first_name_11', 'last_name_{i}'),\n",
       " (12, 'first_name_12', 'last_name_{i}'),\n",
       " (13, 'first_name_13', 'last_name_{i}'),\n",
       " (14, 'first_name_14', 'last_name_{i}'),\n",
       " (15, 'first_name_15', 'last_name_{i}'),\n",
       " (16, 'first_name_16', 'last_name_{i}'),\n",
       " (17, 'first_name_17', 'last_name_{i}'),\n",
       " (18, 'first_name_18', 'last_name_{i}'),\n",
       " (19, 'first_name_19', 'last_name_{i}'),\n",
       " (20, 'first_name_20', 'last_name_{i}'),\n",
       " (21, 'first_name_21', 'last_name_{i}'),\n",
       " (22, 'first_name_22', 'last_name_{i}'),\n",
       " (23, 'first_name_23', 'last_name_{i}'),\n",
       " (24, 'first_name_24', 'last_name_{i}'),\n",
       " (25, 'first_name_25', 'last_name_{i}'),\n",
       " (26, 'first_name_26', 'last_name_{i}'),\n",
       " (27, 'first_name_27', 'last_name_{i}'),\n",
       " (28, 'first_name_28', 'last_name_{i}'),\n",
       " (29, 'first_name_29', 'last_name_{i}'),\n",
       " (30, 'first_name_30', 'last_name_{i}'),\n",
       " (31, 'first_name_31', 'last_name_{i}'),\n",
       " (32, 'first_name_32', 'last_name_{i}'),\n",
       " (33, 'first_name_33', 'last_name_{i}'),\n",
       " (34, 'first_name_34', 'last_name_{i}'),\n",
       " (35, 'first_name_35', 'last_name_{i}'),\n",
       " (36, 'first_name_36', 'last_name_{i}'),\n",
       " (37, 'first_name_37', 'last_name_{i}'),\n",
       " (38, 'first_name_38', 'last_name_{i}'),\n",
       " (39, 'first_name_39', 'last_name_{i}'),\n",
       " (40, 'first_name_40', 'last_name_{i}'),\n",
       " (41, 'first_name_41', 'last_name_{i}'),\n",
       " (42, 'first_name_42', 'last_name_{i}'),\n",
       " (43, 'first_name_43', 'last_name_{i}'),\n",
       " (44, 'first_name_44', 'last_name_{i}'),\n",
       " (45, 'first_name_45', 'last_name_{i}'),\n",
       " (46, 'first_name_46', 'last_name_{i}'),\n",
       " (47, 'first_name_47', 'last_name_{i}'),\n",
       " (48, 'first_name_48', 'last_name_{i}'),\n",
       " (49, 'first_name_49', 'last_name_{i}'),\n",
       " (50, 'first_name_50', 'last_name_{i}'),\n",
       " (51, 'first_name_51', 'last_name_{i}'),\n",
       " (52, 'first_name_52', 'last_name_{i}'),\n",
       " (53, 'first_name_53', 'last_name_{i}'),\n",
       " (54, 'first_name_54', 'last_name_{i}'),\n",
       " (55, 'first_name_55', 'last_name_{i}'),\n",
       " (56, 'first_name_56', 'last_name_{i}'),\n",
       " (57, 'first_name_57', 'last_name_{i}'),\n",
       " (58, 'first_name_58', 'last_name_{i}'),\n",
       " (59, 'first_name_59', 'last_name_{i}'),\n",
       " (60, 'first_name_60', 'last_name_{i}'),\n",
       " (61, 'first_name_61', 'last_name_{i}'),\n",
       " (62, 'first_name_62', 'last_name_{i}'),\n",
       " (63, 'first_name_63', 'last_name_{i}'),\n",
       " (64, 'first_name_64', 'last_name_{i}'),\n",
       " (65, 'first_name_65', 'last_name_{i}'),\n",
       " (66, 'first_name_66', 'last_name_{i}'),\n",
       " (67, 'first_name_67', 'last_name_{i}'),\n",
       " (68, 'first_name_68', 'last_name_{i}'),\n",
       " (69, 'first_name_69', 'last_name_{i}'),\n",
       " (70, 'first_name_70', 'last_name_{i}'),\n",
       " (71, 'first_name_71', 'last_name_{i}'),\n",
       " (72, 'first_name_72', 'last_name_{i}'),\n",
       " (73, 'first_name_73', 'last_name_{i}'),\n",
       " (74, 'first_name_74', 'last_name_{i}'),\n",
       " (75, 'first_name_75', 'last_name_{i}'),\n",
       " (76, 'first_name_76', 'last_name_{i}'),\n",
       " (77, 'first_name_77', 'last_name_{i}'),\n",
       " (78, 'first_name_78', 'last_name_{i}'),\n",
       " (79, 'first_name_79', 'last_name_{i}'),\n",
       " (80, 'first_name_80', 'last_name_{i}'),\n",
       " (81, 'first_name_81', 'last_name_{i}'),\n",
       " (82, 'first_name_82', 'last_name_{i}'),\n",
       " (83, 'first_name_83', 'last_name_{i}'),\n",
       " (84, 'first_name_84', 'last_name_{i}'),\n",
       " (85, 'first_name_85', 'last_name_{i}'),\n",
       " (86, 'first_name_86', 'last_name_{i}'),\n",
       " (87, 'first_name_87', 'last_name_{i}'),\n",
       " (88, 'first_name_88', 'last_name_{i}'),\n",
       " (89, 'first_name_89', 'last_name_{i}'),\n",
       " (90, 'first_name_90', 'last_name_{i}'),\n",
       " (91, 'first_name_91', 'last_name_{i}'),\n",
       " (92, 'first_name_92', 'last_name_{i}'),\n",
       " (93, 'first_name_93', 'last_name_{i}'),\n",
       " (94, 'first_name_94', 'last_name_{i}'),\n",
       " (95, 'first_name_95', 'last_name_{i}'),\n",
       " (96, 'first_name_96', 'last_name_{i}'),\n",
       " (97, 'first_name_97', 'last_name_{i}'),\n",
       " (98, 'first_name_98', 'last_name_{i}'),\n",
       " (99, 'first_name_99', 'last_name_{i}'),\n",
       " (100, 'first_name_100', 'last_name_{i}'),\n",
       " (101, 'first_name_101', 'last_name_{i}'),\n",
       " (102, 'first_name_102', 'last_name_{i}'),\n",
       " (103, 'first_name_103', 'last_name_{i}'),\n",
       " (104, 'first_name_104', 'last_name_{i}'),\n",
       " (105, 'first_name_105', 'last_name_{i}'),\n",
       " (106, 'first_name_106', 'last_name_{i}'),\n",
       " (107, 'first_name_107', 'last_name_{i}'),\n",
       " (108, 'first_name_108', 'last_name_{i}'),\n",
       " (109, 'first_name_109', 'last_name_{i}'),\n",
       " (110, 'first_name_110', 'last_name_{i}'),\n",
       " (111, 'first_name_111', 'last_name_{i}'),\n",
       " (112, 'first_name_112', 'last_name_{i}'),\n",
       " (113, 'first_name_113', 'last_name_{i}'),\n",
       " (114, 'first_name_114', 'last_name_{i}'),\n",
       " (115, 'first_name_115', 'last_name_{i}'),\n",
       " (116, 'first_name_116', 'last_name_{i}'),\n",
       " (117, 'first_name_117', 'last_name_{i}'),\n",
       " (118, 'first_name_118', 'last_name_{i}'),\n",
       " (119, 'first_name_119', 'last_name_{i}'),\n",
       " (120, 'first_name_120', 'last_name_{i}'),\n",
       " (121, 'first_name_121', 'last_name_{i}'),\n",
       " (122, 'first_name_122', 'last_name_{i}'),\n",
       " (123, 'first_name_123', 'last_name_{i}'),\n",
       " (124, 'first_name_124', 'last_name_{i}'),\n",
       " (125, 'first_name_125', 'last_name_{i}'),\n",
       " (126, 'first_name_126', 'last_name_{i}'),\n",
       " (127, 'first_name_127', 'last_name_{i}'),\n",
       " (128, 'first_name_128', 'last_name_{i}'),\n",
       " (129, 'first_name_129', 'last_name_{i}'),\n",
       " (130, 'first_name_130', 'last_name_{i}'),\n",
       " (131, 'first_name_131', 'last_name_{i}'),\n",
       " (132, 'first_name_132', 'last_name_{i}'),\n",
       " (133, 'first_name_133', 'last_name_{i}'),\n",
       " (134, 'first_name_134', 'last_name_{i}'),\n",
       " (135, 'first_name_135', 'last_name_{i}'),\n",
       " (136, 'first_name_136', 'last_name_{i}'),\n",
       " (137, 'first_name_137', 'last_name_{i}'),\n",
       " (138, 'first_name_138', 'last_name_{i}'),\n",
       " (139, 'first_name_139', 'last_name_{i}'),\n",
       " (140, 'first_name_140', 'last_name_{i}'),\n",
       " (141, 'first_name_141', 'last_name_{i}'),\n",
       " (142, 'first_name_142', 'last_name_{i}'),\n",
       " (143, 'first_name_143', 'last_name_{i}'),\n",
       " (144, 'first_name_144', 'last_name_{i}'),\n",
       " (145, 'first_name_145', 'last_name_{i}'),\n",
       " (146, 'first_name_146', 'last_name_{i}'),\n",
       " (147, 'first_name_147', 'last_name_{i}'),\n",
       " (148, 'first_name_148', 'last_name_{i}'),\n",
       " (149, 'first_name_149', 'last_name_{i}'),\n",
       " (150, 'first_name_150', 'last_name_{i}'),\n",
       " (151, 'first_name_151', 'last_name_{i}'),\n",
       " (152, 'first_name_152', 'last_name_{i}'),\n",
       " (153, 'first_name_153', 'last_name_{i}'),\n",
       " (154, 'first_name_154', 'last_name_{i}'),\n",
       " (155, 'first_name_155', 'last_name_{i}'),\n",
       " (156, 'first_name_156', 'last_name_{i}'),\n",
       " (157, 'first_name_157', 'last_name_{i}'),\n",
       " (158, 'first_name_158', 'last_name_{i}'),\n",
       " (159, 'first_name_159', 'last_name_{i}'),\n",
       " (160, 'first_name_160', 'last_name_{i}'),\n",
       " (161, 'first_name_161', 'last_name_{i}'),\n",
       " (162, 'first_name_162', 'last_name_{i}'),\n",
       " (163, 'first_name_163', 'last_name_{i}'),\n",
       " (164, 'first_name_164', 'last_name_{i}'),\n",
       " (165, 'first_name_165', 'last_name_{i}'),\n",
       " (166, 'first_name_166', 'last_name_{i}'),\n",
       " (167, 'first_name_167', 'last_name_{i}'),\n",
       " (168, 'first_name_168', 'last_name_{i}'),\n",
       " (169, 'first_name_169', 'last_name_{i}'),\n",
       " (170, 'first_name_170', 'last_name_{i}'),\n",
       " (171, 'first_name_171', 'last_name_{i}'),\n",
       " (172, 'first_name_172', 'last_name_{i}'),\n",
       " (173, 'first_name_173', 'last_name_{i}'),\n",
       " (174, 'first_name_174', 'last_name_{i}'),\n",
       " (175, 'first_name_175', 'last_name_{i}'),\n",
       " (176, 'first_name_176', 'last_name_{i}'),\n",
       " (177, 'first_name_177', 'last_name_{i}'),\n",
       " (178, 'first_name_178', 'last_name_{i}'),\n",
       " (179, 'first_name_179', 'last_name_{i}'),\n",
       " (180, 'first_name_180', 'last_name_{i}'),\n",
       " (181, 'first_name_181', 'last_name_{i}'),\n",
       " (182, 'first_name_182', 'last_name_{i}'),\n",
       " (183, 'first_name_183', 'last_name_{i}'),\n",
       " (184, 'first_name_184', 'last_name_{i}'),\n",
       " (185, 'first_name_185', 'last_name_{i}'),\n",
       " (186, 'first_name_186', 'last_name_{i}'),\n",
       " (187, 'first_name_187', 'last_name_{i}'),\n",
       " (188, 'first_name_188', 'last_name_{i}'),\n",
       " (189, 'first_name_189', 'last_name_{i}'),\n",
       " (190, 'first_name_190', 'last_name_{i}'),\n",
       " (191, 'first_name_191', 'last_name_{i}'),\n",
       " (192, 'first_name_192', 'last_name_{i}'),\n",
       " (193, 'first_name_193', 'last_name_{i}'),\n",
       " (194, 'first_name_194', 'last_name_{i}'),\n",
       " (195, 'first_name_195', 'last_name_{i}'),\n",
       " (196, 'first_name_196', 'last_name_{i}'),\n",
       " (197, 'first_name_197', 'last_name_{i}'),\n",
       " (198, 'first_name_198', 'last_name_{i}'),\n",
       " (199, 'first_name_199', 'last_name_{i}'),\n",
       " (200, 'first_name_200', 'last_name_{i}'),\n",
       " (201, 'first_name_201', 'last_name_{i}'),\n",
       " (202, 'first_name_202', 'last_name_{i}'),\n",
       " (203, 'first_name_203', 'last_name_{i}'),\n",
       " (204, 'first_name_204', 'last_name_{i}'),\n",
       " (205, 'first_name_205', 'last_name_{i}'),\n",
       " (206, 'first_name_206', 'last_name_{i}'),\n",
       " (207, 'first_name_207', 'last_name_{i}'),\n",
       " (208, 'first_name_208', 'last_name_{i}'),\n",
       " (209, 'first_name_209', 'last_name_{i}'),\n",
       " (210, 'first_name_210', 'last_name_{i}'),\n",
       " (211, 'first_name_211', 'last_name_{i}'),\n",
       " (212, 'first_name_212', 'last_name_{i}'),\n",
       " (213, 'first_name_213', 'last_name_{i}'),\n",
       " (214, 'first_name_214', 'last_name_{i}'),\n",
       " (215, 'first_name_215', 'last_name_{i}'),\n",
       " (216, 'first_name_216', 'last_name_{i}'),\n",
       " (217, 'first_name_217', 'last_name_{i}'),\n",
       " (218, 'first_name_218', 'last_name_{i}'),\n",
       " (219, 'first_name_219', 'last_name_{i}'),\n",
       " (220, 'first_name_220', 'last_name_{i}'),\n",
       " (221, 'first_name_221', 'last_name_{i}'),\n",
       " (222, 'first_name_222', 'last_name_{i}'),\n",
       " (223, 'first_name_223', 'last_name_{i}'),\n",
       " (224, 'first_name_224', 'last_name_{i}'),\n",
       " (225, 'first_name_225', 'last_name_{i}'),\n",
       " (226, 'first_name_226', 'last_name_{i}'),\n",
       " (227, 'first_name_227', 'last_name_{i}'),\n",
       " (228, 'first_name_228', 'last_name_{i}'),\n",
       " (229, 'first_name_229', 'last_name_{i}'),\n",
       " (230, 'first_name_230', 'last_name_{i}'),\n",
       " (231, 'first_name_231', 'last_name_{i}'),\n",
       " (232, 'first_name_232', 'last_name_{i}'),\n",
       " (233, 'first_name_233', 'last_name_{i}'),\n",
       " (234, 'first_name_234', 'last_name_{i}'),\n",
       " (235, 'first_name_235', 'last_name_{i}'),\n",
       " (236, 'first_name_236', 'last_name_{i}'),\n",
       " (237, 'first_name_237', 'last_name_{i}'),\n",
       " (238, 'first_name_238', 'last_name_{i}'),\n",
       " (239, 'first_name_239', 'last_name_{i}'),\n",
       " (240, 'first_name_240', 'last_name_{i}'),\n",
       " (241, 'first_name_241', 'last_name_{i}'),\n",
       " (242, 'first_name_242', 'last_name_{i}'),\n",
       " (243, 'first_name_243', 'last_name_{i}'),\n",
       " (244, 'first_name_244', 'last_name_{i}'),\n",
       " (245, 'first_name_245', 'last_name_{i}'),\n",
       " (246, 'first_name_246', 'last_name_{i}'),\n",
       " (247, 'first_name_247', 'last_name_{i}'),\n",
       " (248, 'first_name_248', 'last_name_{i}'),\n",
       " (249, 'first_name_249', 'last_name_{i}'),\n",
       " (250, 'first_name_250', 'last_name_{i}'),\n",
       " (251, 'first_name_251', 'last_name_{i}'),\n",
       " (252, 'first_name_252', 'last_name_{i}'),\n",
       " (253, 'first_name_253', 'last_name_{i}'),\n",
       " (254, 'first_name_254', 'last_name_{i}'),\n",
       " (255, 'first_name_255', 'last_name_{i}'),\n",
       " (256, 'first_name_256', 'last_name_{i}'),\n",
       " (257, 'first_name_257', 'last_name_{i}'),\n",
       " (258, 'first_name_258', 'last_name_{i}'),\n",
       " (259, 'first_name_259', 'last_name_{i}'),\n",
       " (260, 'first_name_260', 'last_name_{i}'),\n",
       " (261, 'first_name_261', 'last_name_{i}'),\n",
       " (262, 'first_name_262', 'last_name_{i}'),\n",
       " (263, 'first_name_263', 'last_name_{i}'),\n",
       " (264, 'first_name_264', 'last_name_{i}'),\n",
       " (265, 'first_name_265', 'last_name_{i}'),\n",
       " (266, 'first_name_266', 'last_name_{i}'),\n",
       " (267, 'first_name_267', 'last_name_{i}'),\n",
       " (268, 'first_name_268', 'last_name_{i}'),\n",
       " (269, 'first_name_269', 'last_name_{i}'),\n",
       " (270, 'first_name_270', 'last_name_{i}'),\n",
       " (271, 'first_name_271', 'last_name_{i}'),\n",
       " (272, 'first_name_272', 'last_name_{i}'),\n",
       " (273, 'first_name_273', 'last_name_{i}'),\n",
       " (274, 'first_name_274', 'last_name_{i}'),\n",
       " (275, 'first_name_275', 'last_name_{i}'),\n",
       " (276, 'first_name_276', 'last_name_{i}'),\n",
       " (277, 'first_name_277', 'last_name_{i}'),\n",
       " (278, 'first_name_278', 'last_name_{i}'),\n",
       " (279, 'first_name_279', 'last_name_{i}'),\n",
       " (280, 'first_name_280', 'last_name_{i}'),\n",
       " (281, 'first_name_281', 'last_name_{i}'),\n",
       " (282, 'first_name_282', 'last_name_{i}'),\n",
       " (283, 'first_name_283', 'last_name_{i}'),\n",
       " (284, 'first_name_284', 'last_name_{i}'),\n",
       " (285, 'first_name_285', 'last_name_{i}'),\n",
       " (286, 'first_name_286', 'last_name_{i}'),\n",
       " (287, 'first_name_287', 'last_name_{i}'),\n",
       " (288, 'first_name_288', 'last_name_{i}'),\n",
       " (289, 'first_name_289', 'last_name_{i}'),\n",
       " (290, 'first_name_290', 'last_name_{i}'),\n",
       " (291, 'first_name_291', 'last_name_{i}'),\n",
       " (292, 'first_name_292', 'last_name_{i}'),\n",
       " (293, 'first_name_293', 'last_name_{i}'),\n",
       " (294, 'first_name_294', 'last_name_{i}'),\n",
       " (295, 'first_name_295', 'last_name_{i}'),\n",
       " (296, 'first_name_296', 'last_name_{i}'),\n",
       " (297, 'first_name_297', 'last_name_{i}'),\n",
       " (298, 'first_name_298', 'last_name_{i}'),\n",
       " (299, 'first_name_299', 'last_name_{i}'),\n",
       " (300, 'first_name_300', 'last_name_{i}'),\n",
       " (301, 'first_name_301', 'last_name_{i}'),\n",
       " (302, 'first_name_302', 'last_name_{i}'),\n",
       " (303, 'first_name_303', 'last_name_{i}'),\n",
       " (304, 'first_name_304', 'last_name_{i}'),\n",
       " (305, 'first_name_305', 'last_name_{i}'),\n",
       " (306, 'first_name_306', 'last_name_{i}'),\n",
       " (307, 'first_name_307', 'last_name_{i}'),\n",
       " (308, 'first_name_308', 'last_name_{i}'),\n",
       " (309, 'first_name_309', 'last_name_{i}'),\n",
       " (310, 'first_name_310', 'last_name_{i}'),\n",
       " (311, 'first_name_311', 'last_name_{i}'),\n",
       " (312, 'first_name_312', 'last_name_{i}'),\n",
       " (313, 'first_name_313', 'last_name_{i}'),\n",
       " (314, 'first_name_314', 'last_name_{i}'),\n",
       " (315, 'first_name_315', 'last_name_{i}'),\n",
       " (316, 'first_name_316', 'last_name_{i}'),\n",
       " (317, 'first_name_317', 'last_name_{i}'),\n",
       " (318, 'first_name_318', 'last_name_{i}'),\n",
       " (319, 'first_name_319', 'last_name_{i}'),\n",
       " (320, 'first_name_320', 'last_name_{i}'),\n",
       " (321, 'first_name_321', 'last_name_{i}'),\n",
       " (322, 'first_name_322', 'last_name_{i}'),\n",
       " (323, 'first_name_323', 'last_name_{i}'),\n",
       " (324, 'first_name_324', 'last_name_{i}'),\n",
       " (325, 'first_name_325', 'last_name_{i}'),\n",
       " (326, 'first_name_326', 'last_name_{i}'),\n",
       " (327, 'first_name_327', 'last_name_{i}'),\n",
       " (328, 'first_name_328', 'last_name_{i}'),\n",
       " (329, 'first_name_329', 'last_name_{i}'),\n",
       " (330, 'first_name_330', 'last_name_{i}'),\n",
       " (331, 'first_name_331', 'last_name_{i}'),\n",
       " (332, 'first_name_332', 'last_name_{i}'),\n",
       " (333, 'first_name_333', 'last_name_{i}'),\n",
       " (334, 'first_name_334', 'last_name_{i}'),\n",
       " (335, 'first_name_335', 'last_name_{i}'),\n",
       " (336, 'first_name_336', 'last_name_{i}'),\n",
       " (337, 'first_name_337', 'last_name_{i}'),\n",
       " (338, 'first_name_338', 'last_name_{i}'),\n",
       " (339, 'first_name_339', 'last_name_{i}'),\n",
       " (340, 'first_name_340', 'last_name_{i}'),\n",
       " (341, 'first_name_341', 'last_name_{i}'),\n",
       " (342, 'first_name_342', 'last_name_{i}'),\n",
       " (343, 'first_name_343', 'last_name_{i}'),\n",
       " (344, 'first_name_344', 'last_name_{i}'),\n",
       " (345, 'first_name_345', 'last_name_{i}'),\n",
       " (346, 'first_name_346', 'last_name_{i}'),\n",
       " (347, 'first_name_347', 'last_name_{i}'),\n",
       " (348, 'first_name_348', 'last_name_{i}'),\n",
       " (349, 'first_name_349', 'last_name_{i}'),\n",
       " (350, 'first_name_350', 'last_name_{i}'),\n",
       " (351, 'first_name_351', 'last_name_{i}'),\n",
       " (352, 'first_name_352', 'last_name_{i}'),\n",
       " (353, 'first_name_353', 'last_name_{i}'),\n",
       " (354, 'first_name_354', 'last_name_{i}'),\n",
       " (355, 'first_name_355', 'last_name_{i}'),\n",
       " (356, 'first_name_356', 'last_name_{i}'),\n",
       " (357, 'first_name_357', 'last_name_{i}'),\n",
       " (358, 'first_name_358', 'last_name_{i}'),\n",
       " (359, 'first_name_359', 'last_name_{i}'),\n",
       " (360, 'first_name_360', 'last_name_{i}'),\n",
       " (361, 'first_name_361', 'last_name_{i}'),\n",
       " (362, 'first_name_362', 'last_name_{i}'),\n",
       " (363, 'first_name_363', 'last_name_{i}'),\n",
       " (364, 'first_name_364', 'last_name_{i}'),\n",
       " (365, 'first_name_365', 'last_name_{i}'),\n",
       " (366, 'first_name_366', 'last_name_{i}'),\n",
       " (367, 'first_name_367', 'last_name_{i}'),\n",
       " (368, 'first_name_368', 'last_name_{i}'),\n",
       " (369, 'first_name_369', 'last_name_{i}'),\n",
       " (370, 'first_name_370', 'last_name_{i}'),\n",
       " (371, 'first_name_371', 'last_name_{i}'),\n",
       " (372, 'first_name_372', 'last_name_{i}'),\n",
       " (373, 'first_name_373', 'last_name_{i}'),\n",
       " (374, 'first_name_374', 'last_name_{i}'),\n",
       " (375, 'first_name_375', 'last_name_{i}'),\n",
       " (376, 'first_name_376', 'last_name_{i}'),\n",
       " (377, 'first_name_377', 'last_name_{i}'),\n",
       " (378, 'first_name_378', 'last_name_{i}'),\n",
       " (379, 'first_name_379', 'last_name_{i}'),\n",
       " (380, 'first_name_380', 'last_name_{i}'),\n",
       " (381, 'first_name_381', 'last_name_{i}'),\n",
       " (382, 'first_name_382', 'last_name_{i}'),\n",
       " (383, 'first_name_383', 'last_name_{i}'),\n",
       " (384, 'first_name_384', 'last_name_{i}'),\n",
       " (385, 'first_name_385', 'last_name_{i}'),\n",
       " (386, 'first_name_386', 'last_name_{i}'),\n",
       " (387, 'first_name_387', 'last_name_{i}'),\n",
       " (388, 'first_name_388', 'last_name_{i}'),\n",
       " (389, 'first_name_389', 'last_name_{i}'),\n",
       " (390, 'first_name_390', 'last_name_{i}'),\n",
       " (391, 'first_name_391', 'last_name_{i}'),\n",
       " (392, 'first_name_392', 'last_name_{i}'),\n",
       " (393, 'first_name_393', 'last_name_{i}'),\n",
       " (394, 'first_name_394', 'last_name_{i}'),\n",
       " (395, 'first_name_395', 'last_name_{i}'),\n",
       " (396, 'first_name_396', 'last_name_{i}'),\n",
       " (397, 'first_name_397', 'last_name_{i}'),\n",
       " (398, 'first_name_398', 'last_name_{i}'),\n",
       " (399, 'first_name_399', 'last_name_{i}'),\n",
       " (400, 'first_name_400', 'last_name_{i}'),\n",
       " (401, 'first_name_401', 'last_name_{i}'),\n",
       " (402, 'first_name_402', 'last_name_{i}'),\n",
       " (403, 'first_name_403', 'last_name_{i}'),\n",
       " (404, 'first_name_404', 'last_name_{i}'),\n",
       " (405, 'first_name_405', 'last_name_{i}'),\n",
       " (406, 'first_name_406', 'last_name_{i}'),\n",
       " (407, 'first_name_407', 'last_name_{i}'),\n",
       " (408, 'first_name_408', 'last_name_{i}'),\n",
       " (409, 'first_name_409', 'last_name_{i}'),\n",
       " (410, 'first_name_410', 'last_name_{i}'),\n",
       " (411, 'first_name_411', 'last_name_{i}'),\n",
       " (412, 'first_name_412', 'last_name_{i}'),\n",
       " (413, 'first_name_413', 'last_name_{i}'),\n",
       " (414, 'first_name_414', 'last_name_{i}'),\n",
       " (415, 'first_name_415', 'last_name_{i}'),\n",
       " (416, 'first_name_416', 'last_name_{i}'),\n",
       " (417, 'first_name_417', 'last_name_{i}'),\n",
       " (418, 'first_name_418', 'last_name_{i}'),\n",
       " (419, 'first_name_419', 'last_name_{i}'),\n",
       " (420, 'first_name_420', 'last_name_{i}'),\n",
       " (421, 'first_name_421', 'last_name_{i}'),\n",
       " (422, 'first_name_422', 'last_name_{i}'),\n",
       " (423, 'first_name_423', 'last_name_{i}'),\n",
       " (424, 'first_name_424', 'last_name_{i}'),\n",
       " (425, 'first_name_425', 'last_name_{i}'),\n",
       " (426, 'first_name_426', 'last_name_{i}'),\n",
       " (427, 'first_name_427', 'last_name_{i}'),\n",
       " (428, 'first_name_428', 'last_name_{i}'),\n",
       " (429, 'first_name_429', 'last_name_{i}'),\n",
       " (430, 'first_name_430', 'last_name_{i}'),\n",
       " (431, 'first_name_431', 'last_name_{i}'),\n",
       " (432, 'first_name_432', 'last_name_{i}'),\n",
       " (433, 'first_name_433', 'last_name_{i}'),\n",
       " (434, 'first_name_434', 'last_name_{i}'),\n",
       " (435, 'first_name_435', 'last_name_{i}'),\n",
       " (436, 'first_name_436', 'last_name_{i}'),\n",
       " (437, 'first_name_437', 'last_name_{i}'),\n",
       " (438, 'first_name_438', 'last_name_{i}'),\n",
       " (439, 'first_name_439', 'last_name_{i}'),\n",
       " (440, 'first_name_440', 'last_name_{i}'),\n",
       " (441, 'first_name_441', 'last_name_{i}'),\n",
       " (442, 'first_name_442', 'last_name_{i}'),\n",
       " (443, 'first_name_443', 'last_name_{i}'),\n",
       " (444, 'first_name_444', 'last_name_{i}'),\n",
       " (445, 'first_name_445', 'last_name_{i}'),\n",
       " (446, 'first_name_446', 'last_name_{i}'),\n",
       " (447, 'first_name_447', 'last_name_{i}'),\n",
       " (448, 'first_name_448', 'last_name_{i}'),\n",
       " (449, 'first_name_449', 'last_name_{i}'),\n",
       " (450, 'first_name_450', 'last_name_{i}'),\n",
       " (451, 'first_name_451', 'last_name_{i}'),\n",
       " (452, 'first_name_452', 'last_name_{i}'),\n",
       " (453, 'first_name_453', 'last_name_{i}'),\n",
       " (454, 'first_name_454', 'last_name_{i}'),\n",
       " (455, 'first_name_455', 'last_name_{i}'),\n",
       " (456, 'first_name_456', 'last_name_{i}'),\n",
       " (457, 'first_name_457', 'last_name_{i}'),\n",
       " (458, 'first_name_458', 'last_name_{i}'),\n",
       " (459, 'first_name_459', 'last_name_{i}'),\n",
       " (460, 'first_name_460', 'last_name_{i}'),\n",
       " (461, 'first_name_461', 'last_name_{i}'),\n",
       " (462, 'first_name_462', 'last_name_{i}'),\n",
       " (463, 'first_name_463', 'last_name_{i}'),\n",
       " (464, 'first_name_464', 'last_name_{i}'),\n",
       " (465, 'first_name_465', 'last_name_{i}'),\n",
       " (466, 'first_name_466', 'last_name_{i}'),\n",
       " (467, 'first_name_467', 'last_name_{i}'),\n",
       " (468, 'first_name_468', 'last_name_{i}'),\n",
       " (469, 'first_name_469', 'last_name_{i}'),\n",
       " (470, 'first_name_470', 'last_name_{i}'),\n",
       " (471, 'first_name_471', 'last_name_{i}'),\n",
       " (472, 'first_name_472', 'last_name_{i}'),\n",
       " (473, 'first_name_473', 'last_name_{i}'),\n",
       " (474, 'first_name_474', 'last_name_{i}'),\n",
       " (475, 'first_name_475', 'last_name_{i}'),\n",
       " (476, 'first_name_476', 'last_name_{i}'),\n",
       " (477, 'first_name_477', 'last_name_{i}'),\n",
       " (478, 'first_name_478', 'last_name_{i}'),\n",
       " (479, 'first_name_479', 'last_name_{i}'),\n",
       " (480, 'first_name_480', 'last_name_{i}'),\n",
       " (481, 'first_name_481', 'last_name_{i}'),\n",
       " (482, 'first_name_482', 'last_name_{i}'),\n",
       " (483, 'first_name_483', 'last_name_{i}'),\n",
       " (484, 'first_name_484', 'last_name_{i}'),\n",
       " (485, 'first_name_485', 'last_name_{i}'),\n",
       " (486, 'first_name_486', 'last_name_{i}'),\n",
       " (487, 'first_name_487', 'last_name_{i}'),\n",
       " (488, 'first_name_488', 'last_name_{i}'),\n",
       " (489, 'first_name_489', 'last_name_{i}'),\n",
       " (490, 'first_name_490', 'last_name_{i}'),\n",
       " (491, 'first_name_491', 'last_name_{i}'),\n",
       " (492, 'first_name_492', 'last_name_{i}'),\n",
       " (493, 'first_name_493', 'last_name_{i}'),\n",
       " (494, 'first_name_494', 'last_name_{i}'),\n",
       " (495, 'first_name_495', 'last_name_{i}'),\n",
       " (496, 'first_name_496', 'last_name_{i}'),\n",
       " (497, 'first_name_497', 'last_name_{i}'),\n",
       " (498, 'first_name_498', 'last_name_{i}'),\n",
       " (499, 'first_name_499', 'last_name_{i}'),\n",
       " (500, 'first_name_500', 'last_name_{i}'),\n",
       " (501, 'first_name_501', 'last_name_{i}'),\n",
       " (502, 'first_name_502', 'last_name_{i}'),\n",
       " (503, 'first_name_503', 'last_name_{i}'),\n",
       " (504, 'first_name_504', 'last_name_{i}'),\n",
       " (505, 'first_name_505', 'last_name_{i}'),\n",
       " (506, 'first_name_506', 'last_name_{i}'),\n",
       " (507, 'first_name_507', 'last_name_{i}'),\n",
       " (508, 'first_name_508', 'last_name_{i}'),\n",
       " (509, 'first_name_509', 'last_name_{i}'),\n",
       " (510, 'first_name_510', 'last_name_{i}'),\n",
       " (511, 'first_name_511', 'last_name_{i}'),\n",
       " (512, 'first_name_512', 'last_name_{i}'),\n",
       " (513, 'first_name_513', 'last_name_{i}'),\n",
       " (514, 'first_name_514', 'last_name_{i}'),\n",
       " (515, 'first_name_515', 'last_name_{i}'),\n",
       " (516, 'first_name_516', 'last_name_{i}'),\n",
       " (517, 'first_name_517', 'last_name_{i}'),\n",
       " (518, 'first_name_518', 'last_name_{i}'),\n",
       " (519, 'first_name_519', 'last_name_{i}'),\n",
       " (520, 'first_name_520', 'last_name_{i}'),\n",
       " (521, 'first_name_521', 'last_name_{i}'),\n",
       " (522, 'first_name_522', 'last_name_{i}'),\n",
       " (523, 'first_name_523', 'last_name_{i}'),\n",
       " (524, 'first_name_524', 'last_name_{i}'),\n",
       " (525, 'first_name_525', 'last_name_{i}'),\n",
       " (526, 'first_name_526', 'last_name_{i}'),\n",
       " (527, 'first_name_527', 'last_name_{i}'),\n",
       " (528, 'first_name_528', 'last_name_{i}'),\n",
       " (529, 'first_name_529', 'last_name_{i}'),\n",
       " (530, 'first_name_530', 'last_name_{i}'),\n",
       " (531, 'first_name_531', 'last_name_{i}'),\n",
       " (532, 'first_name_532', 'last_name_{i}'),\n",
       " (533, 'first_name_533', 'last_name_{i}'),\n",
       " (534, 'first_name_534', 'last_name_{i}'),\n",
       " (535, 'first_name_535', 'last_name_{i}'),\n",
       " (536, 'first_name_536', 'last_name_{i}'),\n",
       " (537, 'first_name_537', 'last_name_{i}'),\n",
       " (538, 'first_name_538', 'last_name_{i}'),\n",
       " (539, 'first_name_539', 'last_name_{i}'),\n",
       " (540, 'first_name_540', 'last_name_{i}'),\n",
       " (541, 'first_name_541', 'last_name_{i}'),\n",
       " (542, 'first_name_542', 'last_name_{i}'),\n",
       " (543, 'first_name_543', 'last_name_{i}'),\n",
       " (544, 'first_name_544', 'last_name_{i}'),\n",
       " (545, 'first_name_545', 'last_name_{i}'),\n",
       " (546, 'first_name_546', 'last_name_{i}'),\n",
       " (547, 'first_name_547', 'last_name_{i}'),\n",
       " (548, 'first_name_548', 'last_name_{i}'),\n",
       " (549, 'first_name_549', 'last_name_{i}'),\n",
       " (550, 'first_name_550', 'last_name_{i}'),\n",
       " (551, 'first_name_551', 'last_name_{i}'),\n",
       " (552, 'first_name_552', 'last_name_{i}'),\n",
       " (553, 'first_name_553', 'last_name_{i}'),\n",
       " (554, 'first_name_554', 'last_name_{i}'),\n",
       " (555, 'first_name_555', 'last_name_{i}'),\n",
       " (556, 'first_name_556', 'last_name_{i}'),\n",
       " (557, 'first_name_557', 'last_name_{i}'),\n",
       " (558, 'first_name_558', 'last_name_{i}'),\n",
       " (559, 'first_name_559', 'last_name_{i}'),\n",
       " (560, 'first_name_560', 'last_name_{i}'),\n",
       " (561, 'first_name_561', 'last_name_{i}'),\n",
       " (562, 'first_name_562', 'last_name_{i}'),\n",
       " (563, 'first_name_563', 'last_name_{i}'),\n",
       " (564, 'first_name_564', 'last_name_{i}'),\n",
       " (565, 'first_name_565', 'last_name_{i}'),\n",
       " (566, 'first_name_566', 'last_name_{i}'),\n",
       " (567, 'first_name_567', 'last_name_{i}'),\n",
       " (568, 'first_name_568', 'last_name_{i}'),\n",
       " (569, 'first_name_569', 'last_name_{i}'),\n",
       " (570, 'first_name_570', 'last_name_{i}'),\n",
       " (571, 'first_name_571', 'last_name_{i}'),\n",
       " (572, 'first_name_572', 'last_name_{i}'),\n",
       " (573, 'first_name_573', 'last_name_{i}'),\n",
       " (574, 'first_name_574', 'last_name_{i}'),\n",
       " (575, 'first_name_575', 'last_name_{i}'),\n",
       " (576, 'first_name_576', 'last_name_{i}'),\n",
       " (577, 'first_name_577', 'last_name_{i}'),\n",
       " (578, 'first_name_578', 'last_name_{i}'),\n",
       " (579, 'first_name_579', 'last_name_{i}'),\n",
       " (580, 'first_name_580', 'last_name_{i}'),\n",
       " (581, 'first_name_581', 'last_name_{i}'),\n",
       " (582, 'first_name_582', 'last_name_{i}'),\n",
       " (583, 'first_name_583', 'last_name_{i}'),\n",
       " (584, 'first_name_584', 'last_name_{i}'),\n",
       " (585, 'first_name_585', 'last_name_{i}'),\n",
       " (586, 'first_name_586', 'last_name_{i}'),\n",
       " (587, 'first_name_587', 'last_name_{i}'),\n",
       " (588, 'first_name_588', 'last_name_{i}'),\n",
       " (589, 'first_name_589', 'last_name_{i}'),\n",
       " (590, 'first_name_590', 'last_name_{i}'),\n",
       " (591, 'first_name_591', 'last_name_{i}'),\n",
       " (592, 'first_name_592', 'last_name_{i}'),\n",
       " (593, 'first_name_593', 'last_name_{i}'),\n",
       " (594, 'first_name_594', 'last_name_{i}'),\n",
       " (595, 'first_name_595', 'last_name_{i}'),\n",
       " (596, 'first_name_596', 'last_name_{i}'),\n",
       " (597, 'first_name_597', 'last_name_{i}'),\n",
       " (598, 'first_name_598', 'last_name_{i}'),\n",
       " (599, 'first_name_599', 'last_name_{i}'),\n",
       " (600, 'first_name_600', 'last_name_{i}'),\n",
       " (601, 'first_name_601', 'last_name_{i}'),\n",
       " (602, 'first_name_602', 'last_name_{i}'),\n",
       " (603, 'first_name_603', 'last_name_{i}'),\n",
       " (604, 'first_name_604', 'last_name_{i}'),\n",
       " (605, 'first_name_605', 'last_name_{i}'),\n",
       " (606, 'first_name_606', 'last_name_{i}'),\n",
       " (607, 'first_name_607', 'last_name_{i}'),\n",
       " (608, 'first_name_608', 'last_name_{i}'),\n",
       " (609, 'first_name_609', 'last_name_{i}'),\n",
       " (610, 'first_name_610', 'last_name_{i}'),\n",
       " (611, 'first_name_611', 'last_name_{i}'),\n",
       " (612, 'first_name_612', 'last_name_{i}'),\n",
       " (613, 'first_name_613', 'last_name_{i}'),\n",
       " (614, 'first_name_614', 'last_name_{i}'),\n",
       " (615, 'first_name_615', 'last_name_{i}'),\n",
       " (616, 'first_name_616', 'last_name_{i}'),\n",
       " (617, 'first_name_617', 'last_name_{i}'),\n",
       " (618, 'first_name_618', 'last_name_{i}'),\n",
       " (619, 'first_name_619', 'last_name_{i}'),\n",
       " (620, 'first_name_620', 'last_name_{i}'),\n",
       " (621, 'first_name_621', 'last_name_{i}'),\n",
       " (622, 'first_name_622', 'last_name_{i}'),\n",
       " (623, 'first_name_623', 'last_name_{i}'),\n",
       " (624, 'first_name_624', 'last_name_{i}'),\n",
       " (625, 'first_name_625', 'last_name_{i}'),\n",
       " (626, 'first_name_626', 'last_name_{i}'),\n",
       " (627, 'first_name_627', 'last_name_{i}'),\n",
       " (628, 'first_name_628', 'last_name_{i}'),\n",
       " (629, 'first_name_629', 'last_name_{i}'),\n",
       " (630, 'first_name_630', 'last_name_{i}'),\n",
       " (631, 'first_name_631', 'last_name_{i}'),\n",
       " (632, 'first_name_632', 'last_name_{i}'),\n",
       " (633, 'first_name_633', 'last_name_{i}'),\n",
       " (634, 'first_name_634', 'last_name_{i}'),\n",
       " (635, 'first_name_635', 'last_name_{i}'),\n",
       " (636, 'first_name_636', 'last_name_{i}'),\n",
       " (637, 'first_name_637', 'last_name_{i}'),\n",
       " (638, 'first_name_638', 'last_name_{i}'),\n",
       " (639, 'first_name_639', 'last_name_{i}'),\n",
       " (640, 'first_name_640', 'last_name_{i}'),\n",
       " (641, 'first_name_641', 'last_name_{i}'),\n",
       " (642, 'first_name_642', 'last_name_{i}'),\n",
       " (643, 'first_name_643', 'last_name_{i}'),\n",
       " (644, 'first_name_644', 'last_name_{i}'),\n",
       " (645, 'first_name_645', 'last_name_{i}'),\n",
       " (646, 'first_name_646', 'last_name_{i}'),\n",
       " (647, 'first_name_647', 'last_name_{i}'),\n",
       " (648, 'first_name_648', 'last_name_{i}'),\n",
       " (649, 'first_name_649', 'last_name_{i}'),\n",
       " (650, 'first_name_650', 'last_name_{i}'),\n",
       " (651, 'first_name_651', 'last_name_{i}'),\n",
       " (652, 'first_name_652', 'last_name_{i}'),\n",
       " (653, 'first_name_653', 'last_name_{i}'),\n",
       " (654, 'first_name_654', 'last_name_{i}'),\n",
       " (655, 'first_name_655', 'last_name_{i}'),\n",
       " (656, 'first_name_656', 'last_name_{i}'),\n",
       " (657, 'first_name_657', 'last_name_{i}'),\n",
       " (658, 'first_name_658', 'last_name_{i}'),\n",
       " (659, 'first_name_659', 'last_name_{i}'),\n",
       " (660, 'first_name_660', 'last_name_{i}'),\n",
       " (661, 'first_name_661', 'last_name_{i}'),\n",
       " (662, 'first_name_662', 'last_name_{i}'),\n",
       " (663, 'first_name_663', 'last_name_{i}'),\n",
       " (664, 'first_name_664', 'last_name_{i}'),\n",
       " (665, 'first_name_665', 'last_name_{i}'),\n",
       " (666, 'first_name_666', 'last_name_{i}'),\n",
       " (667, 'first_name_667', 'last_name_{i}'),\n",
       " (668, 'first_name_668', 'last_name_{i}'),\n",
       " (669, 'first_name_669', 'last_name_{i}'),\n",
       " (670, 'first_name_670', 'last_name_{i}'),\n",
       " (671, 'first_name_671', 'last_name_{i}'),\n",
       " (672, 'first_name_672', 'last_name_{i}'),\n",
       " (673, 'first_name_673', 'last_name_{i}'),\n",
       " (674, 'first_name_674', 'last_name_{i}'),\n",
       " (675, 'first_name_675', 'last_name_{i}'),\n",
       " (676, 'first_name_676', 'last_name_{i}'),\n",
       " (677, 'first_name_677', 'last_name_{i}'),\n",
       " (678, 'first_name_678', 'last_name_{i}'),\n",
       " (679, 'first_name_679', 'last_name_{i}'),\n",
       " (680, 'first_name_680', 'last_name_{i}'),\n",
       " (681, 'first_name_681', 'last_name_{i}'),\n",
       " (682, 'first_name_682', 'last_name_{i}'),\n",
       " (683, 'first_name_683', 'last_name_{i}'),\n",
       " (684, 'first_name_684', 'last_name_{i}'),\n",
       " (685, 'first_name_685', 'last_name_{i}'),\n",
       " (686, 'first_name_686', 'last_name_{i}'),\n",
       " (687, 'first_name_687', 'last_name_{i}'),\n",
       " (688, 'first_name_688', 'last_name_{i}'),\n",
       " (689, 'first_name_689', 'last_name_{i}'),\n",
       " (690, 'first_name_690', 'last_name_{i}'),\n",
       " (691, 'first_name_691', 'last_name_{i}'),\n",
       " (692, 'first_name_692', 'last_name_{i}'),\n",
       " (693, 'first_name_693', 'last_name_{i}'),\n",
       " (694, 'first_name_694', 'last_name_{i}'),\n",
       " (695, 'first_name_695', 'last_name_{i}'),\n",
       " (696, 'first_name_696', 'last_name_{i}'),\n",
       " (697, 'first_name_697', 'last_name_{i}'),\n",
       " (698, 'first_name_698', 'last_name_{i}'),\n",
       " (699, 'first_name_699', 'last_name_{i}'),\n",
       " (700, 'first_name_700', 'last_name_{i}'),\n",
       " (701, 'first_name_701', 'last_name_{i}'),\n",
       " (702, 'first_name_702', 'last_name_{i}'),\n",
       " (703, 'first_name_703', 'last_name_{i}'),\n",
       " (704, 'first_name_704', 'last_name_{i}'),\n",
       " (705, 'first_name_705', 'last_name_{i}'),\n",
       " (706, 'first_name_706', 'last_name_{i}'),\n",
       " (707, 'first_name_707', 'last_name_{i}'),\n",
       " (708, 'first_name_708', 'last_name_{i}'),\n",
       " (709, 'first_name_709', 'last_name_{i}'),\n",
       " (710, 'first_name_710', 'last_name_{i}'),\n",
       " (711, 'first_name_711', 'last_name_{i}'),\n",
       " (712, 'first_name_712', 'last_name_{i}'),\n",
       " (713, 'first_name_713', 'last_name_{i}'),\n",
       " (714, 'first_name_714', 'last_name_{i}'),\n",
       " (715, 'first_name_715', 'last_name_{i}'),\n",
       " (716, 'first_name_716', 'last_name_{i}'),\n",
       " (717, 'first_name_717', 'last_name_{i}'),\n",
       " (718, 'first_name_718', 'last_name_{i}'),\n",
       " (719, 'first_name_719', 'last_name_{i}'),\n",
       " (720, 'first_name_720', 'last_name_{i}'),\n",
       " (721, 'first_name_721', 'last_name_{i}'),\n",
       " (722, 'first_name_722', 'last_name_{i}'),\n",
       " (723, 'first_name_723', 'last_name_{i}'),\n",
       " (724, 'first_name_724', 'last_name_{i}'),\n",
       " (725, 'first_name_725', 'last_name_{i}'),\n",
       " (726, 'first_name_726', 'last_name_{i}'),\n",
       " (727, 'first_name_727', 'last_name_{i}'),\n",
       " (728, 'first_name_728', 'last_name_{i}'),\n",
       " (729, 'first_name_729', 'last_name_{i}'),\n",
       " (730, 'first_name_730', 'last_name_{i}'),\n",
       " (731, 'first_name_731', 'last_name_{i}'),\n",
       " (732, 'first_name_732', 'last_name_{i}'),\n",
       " (733, 'first_name_733', 'last_name_{i}'),\n",
       " (734, 'first_name_734', 'last_name_{i}'),\n",
       " (735, 'first_name_735', 'last_name_{i}'),\n",
       " (736, 'first_name_736', 'last_name_{i}'),\n",
       " (737, 'first_name_737', 'last_name_{i}'),\n",
       " (738, 'first_name_738', 'last_name_{i}'),\n",
       " (739, 'first_name_739', 'last_name_{i}'),\n",
       " (740, 'first_name_740', 'last_name_{i}'),\n",
       " (741, 'first_name_741', 'last_name_{i}'),\n",
       " (742, 'first_name_742', 'last_name_{i}'),\n",
       " (743, 'first_name_743', 'last_name_{i}'),\n",
       " (744, 'first_name_744', 'last_name_{i}'),\n",
       " (745, 'first_name_745', 'last_name_{i}'),\n",
       " (746, 'first_name_746', 'last_name_{i}'),\n",
       " (747, 'first_name_747', 'last_name_{i}'),\n",
       " (748, 'first_name_748', 'last_name_{i}'),\n",
       " (749, 'first_name_749', 'last_name_{i}'),\n",
       " (750, 'first_name_750', 'last_name_{i}'),\n",
       " (751, 'first_name_751', 'last_name_{i}'),\n",
       " (752, 'first_name_752', 'last_name_{i}'),\n",
       " (753, 'first_name_753', 'last_name_{i}'),\n",
       " (754, 'first_name_754', 'last_name_{i}'),\n",
       " (755, 'first_name_755', 'last_name_{i}'),\n",
       " (756, 'first_name_756', 'last_name_{i}'),\n",
       " (757, 'first_name_757', 'last_name_{i}'),\n",
       " (758, 'first_name_758', 'last_name_{i}'),\n",
       " (759, 'first_name_759', 'last_name_{i}'),\n",
       " (760, 'first_name_760', 'last_name_{i}'),\n",
       " (761, 'first_name_761', 'last_name_{i}'),\n",
       " (762, 'first_name_762', 'last_name_{i}'),\n",
       " (763, 'first_name_763', 'last_name_{i}'),\n",
       " (764, 'first_name_764', 'last_name_{i}'),\n",
       " (765, 'first_name_765', 'last_name_{i}'),\n",
       " (766, 'first_name_766', 'last_name_{i}'),\n",
       " (767, 'first_name_767', 'last_name_{i}'),\n",
       " (768, 'first_name_768', 'last_name_{i}'),\n",
       " (769, 'first_name_769', 'last_name_{i}'),\n",
       " (770, 'first_name_770', 'last_name_{i}'),\n",
       " (771, 'first_name_771', 'last_name_{i}'),\n",
       " (772, 'first_name_772', 'last_name_{i}'),\n",
       " (773, 'first_name_773', 'last_name_{i}'),\n",
       " (774, 'first_name_774', 'last_name_{i}'),\n",
       " (775, 'first_name_775', 'last_name_{i}'),\n",
       " (776, 'first_name_776', 'last_name_{i}'),\n",
       " (777, 'first_name_777', 'last_name_{i}'),\n",
       " (778, 'first_name_778', 'last_name_{i}'),\n",
       " (779, 'first_name_779', 'last_name_{i}'),\n",
       " (780, 'first_name_780', 'last_name_{i}'),\n",
       " (781, 'first_name_781', 'last_name_{i}'),\n",
       " (782, 'first_name_782', 'last_name_{i}'),\n",
       " (783, 'first_name_783', 'last_name_{i}'),\n",
       " (784, 'first_name_784', 'last_name_{i}'),\n",
       " (785, 'first_name_785', 'last_name_{i}'),\n",
       " (786, 'first_name_786', 'last_name_{i}'),\n",
       " (787, 'first_name_787', 'last_name_{i}'),\n",
       " (788, 'first_name_788', 'last_name_{i}'),\n",
       " (789, 'first_name_789', 'last_name_{i}'),\n",
       " (790, 'first_name_790', 'last_name_{i}'),\n",
       " (791, 'first_name_791', 'last_name_{i}'),\n",
       " (792, 'first_name_792', 'last_name_{i}'),\n",
       " (793, 'first_name_793', 'last_name_{i}'),\n",
       " (794, 'first_name_794', 'last_name_{i}'),\n",
       " (795, 'first_name_795', 'last_name_{i}'),\n",
       " (796, 'first_name_796', 'last_name_{i}'),\n",
       " (797, 'first_name_797', 'last_name_{i}'),\n",
       " (798, 'first_name_798', 'last_name_{i}'),\n",
       " (799, 'first_name_799', 'last_name_{i}'),\n",
       " (800, 'first_name_800', 'last_name_{i}'),\n",
       " (801, 'first_name_801', 'last_name_{i}'),\n",
       " (802, 'first_name_802', 'last_name_{i}'),\n",
       " (803, 'first_name_803', 'last_name_{i}'),\n",
       " (804, 'first_name_804', 'last_name_{i}'),\n",
       " (805, 'first_name_805', 'last_name_{i}'),\n",
       " (806, 'first_name_806', 'last_name_{i}'),\n",
       " (807, 'first_name_807', 'last_name_{i}'),\n",
       " (808, 'first_name_808', 'last_name_{i}'),\n",
       " (809, 'first_name_809', 'last_name_{i}'),\n",
       " (810, 'first_name_810', 'last_name_{i}'),\n",
       " (811, 'first_name_811', 'last_name_{i}'),\n",
       " (812, 'first_name_812', 'last_name_{i}'),\n",
       " (813, 'first_name_813', 'last_name_{i}'),\n",
       " (814, 'first_name_814', 'last_name_{i}'),\n",
       " (815, 'first_name_815', 'last_name_{i}'),\n",
       " (816, 'first_name_816', 'last_name_{i}'),\n",
       " (817, 'first_name_817', 'last_name_{i}'),\n",
       " (818, 'first_name_818', 'last_name_{i}'),\n",
       " (819, 'first_name_819', 'last_name_{i}'),\n",
       " (820, 'first_name_820', 'last_name_{i}'),\n",
       " (821, 'first_name_821', 'last_name_{i}'),\n",
       " (822, 'first_name_822', 'last_name_{i}'),\n",
       " (823, 'first_name_823', 'last_name_{i}'),\n",
       " (824, 'first_name_824', 'last_name_{i}'),\n",
       " (825, 'first_name_825', 'last_name_{i}'),\n",
       " (826, 'first_name_826', 'last_name_{i}'),\n",
       " (827, 'first_name_827', 'last_name_{i}'),\n",
       " (828, 'first_name_828', 'last_name_{i}'),\n",
       " (829, 'first_name_829', 'last_name_{i}'),\n",
       " (830, 'first_name_830', 'last_name_{i}'),\n",
       " (831, 'first_name_831', 'last_name_{i}'),\n",
       " (832, 'first_name_832', 'last_name_{i}'),\n",
       " (833, 'first_name_833', 'last_name_{i}'),\n",
       " (834, 'first_name_834', 'last_name_{i}'),\n",
       " (835, 'first_name_835', 'last_name_{i}'),\n",
       " (836, 'first_name_836', 'last_name_{i}'),\n",
       " (837, 'first_name_837', 'last_name_{i}'),\n",
       " (838, 'first_name_838', 'last_name_{i}'),\n",
       " (839, 'first_name_839', 'last_name_{i}'),\n",
       " (840, 'first_name_840', 'last_name_{i}'),\n",
       " (841, 'first_name_841', 'last_name_{i}'),\n",
       " (842, 'first_name_842', 'last_name_{i}'),\n",
       " (843, 'first_name_843', 'last_name_{i}'),\n",
       " (844, 'first_name_844', 'last_name_{i}'),\n",
       " (845, 'first_name_845', 'last_name_{i}'),\n",
       " (846, 'first_name_846', 'last_name_{i}'),\n",
       " (847, 'first_name_847', 'last_name_{i}'),\n",
       " (848, 'first_name_848', 'last_name_{i}'),\n",
       " (849, 'first_name_849', 'last_name_{i}'),\n",
       " (850, 'first_name_850', 'last_name_{i}'),\n",
       " (851, 'first_name_851', 'last_name_{i}'),\n",
       " (852, 'first_name_852', 'last_name_{i}'),\n",
       " (853, 'first_name_853', 'last_name_{i}'),\n",
       " (854, 'first_name_854', 'last_name_{i}'),\n",
       " (855, 'first_name_855', 'last_name_{i}'),\n",
       " (856, 'first_name_856', 'last_name_{i}'),\n",
       " (857, 'first_name_857', 'last_name_{i}'),\n",
       " (858, 'first_name_858', 'last_name_{i}'),\n",
       " (859, 'first_name_859', 'last_name_{i}'),\n",
       " (860, 'first_name_860', 'last_name_{i}'),\n",
       " (861, 'first_name_861', 'last_name_{i}'),\n",
       " (862, 'first_name_862', 'last_name_{i}'),\n",
       " (863, 'first_name_863', 'last_name_{i}'),\n",
       " (864, 'first_name_864', 'last_name_{i}'),\n",
       " (865, 'first_name_865', 'last_name_{i}'),\n",
       " (866, 'first_name_866', 'last_name_{i}'),\n",
       " (867, 'first_name_867', 'last_name_{i}'),\n",
       " (868, 'first_name_868', 'last_name_{i}'),\n",
       " (869, 'first_name_869', 'last_name_{i}'),\n",
       " (870, 'first_name_870', 'last_name_{i}'),\n",
       " (871, 'first_name_871', 'last_name_{i}'),\n",
       " (872, 'first_name_872', 'last_name_{i}'),\n",
       " (873, 'first_name_873', 'last_name_{i}'),\n",
       " (874, 'first_name_874', 'last_name_{i}'),\n",
       " (875, 'first_name_875', 'last_name_{i}'),\n",
       " (876, 'first_name_876', 'last_name_{i}'),\n",
       " (877, 'first_name_877', 'last_name_{i}'),\n",
       " (878, 'first_name_878', 'last_name_{i}'),\n",
       " (879, 'first_name_879', 'last_name_{i}'),\n",
       " (880, 'first_name_880', 'last_name_{i}'),\n",
       " (881, 'first_name_881', 'last_name_{i}'),\n",
       " (882, 'first_name_882', 'last_name_{i}'),\n",
       " (883, 'first_name_883', 'last_name_{i}'),\n",
       " (884, 'first_name_884', 'last_name_{i}'),\n",
       " (885, 'first_name_885', 'last_name_{i}'),\n",
       " (886, 'first_name_886', 'last_name_{i}'),\n",
       " (887, 'first_name_887', 'last_name_{i}'),\n",
       " (888, 'first_name_888', 'last_name_{i}'),\n",
       " (889, 'first_name_889', 'last_name_{i}'),\n",
       " (890, 'first_name_890', 'last_name_{i}'),\n",
       " (891, 'first_name_891', 'last_name_{i}'),\n",
       " (892, 'first_name_892', 'last_name_{i}'),\n",
       " (893, 'first_name_893', 'last_name_{i}'),\n",
       " (894, 'first_name_894', 'last_name_{i}'),\n",
       " (895, 'first_name_895', 'last_name_{i}'),\n",
       " (896, 'first_name_896', 'last_name_{i}'),\n",
       " (897, 'first_name_897', 'last_name_{i}'),\n",
       " (898, 'first_name_898', 'last_name_{i}'),\n",
       " (899, 'first_name_899', 'last_name_{i}'),\n",
       " (900, 'first_name_900', 'last_name_{i}'),\n",
       " (901, 'first_name_901', 'last_name_{i}'),\n",
       " (902, 'first_name_902', 'last_name_{i}'),\n",
       " (903, 'first_name_903', 'last_name_{i}'),\n",
       " (904, 'first_name_904', 'last_name_{i}'),\n",
       " (905, 'first_name_905', 'last_name_{i}'),\n",
       " (906, 'first_name_906', 'last_name_{i}'),\n",
       " (907, 'first_name_907', 'last_name_{i}'),\n",
       " (908, 'first_name_908', 'last_name_{i}'),\n",
       " (909, 'first_name_909', 'last_name_{i}'),\n",
       " (910, 'first_name_910', 'last_name_{i}'),\n",
       " (911, 'first_name_911', 'last_name_{i}'),\n",
       " (912, 'first_name_912', 'last_name_{i}'),\n",
       " (913, 'first_name_913', 'last_name_{i}'),\n",
       " (914, 'first_name_914', 'last_name_{i}'),\n",
       " (915, 'first_name_915', 'last_name_{i}'),\n",
       " (916, 'first_name_916', 'last_name_{i}'),\n",
       " (917, 'first_name_917', 'last_name_{i}'),\n",
       " (918, 'first_name_918', 'last_name_{i}'),\n",
       " (919, 'first_name_919', 'last_name_{i}'),\n",
       " (920, 'first_name_920', 'last_name_{i}'),\n",
       " (921, 'first_name_921', 'last_name_{i}'),\n",
       " (922, 'first_name_922', 'last_name_{i}'),\n",
       " (923, 'first_name_923', 'last_name_{i}'),\n",
       " (924, 'first_name_924', 'last_name_{i}'),\n",
       " (925, 'first_name_925', 'last_name_{i}'),\n",
       " (926, 'first_name_926', 'last_name_{i}'),\n",
       " (927, 'first_name_927', 'last_name_{i}'),\n",
       " (928, 'first_name_928', 'last_name_{i}'),\n",
       " (929, 'first_name_929', 'last_name_{i}'),\n",
       " (930, 'first_name_930', 'last_name_{i}'),\n",
       " (931, 'first_name_931', 'last_name_{i}'),\n",
       " (932, 'first_name_932', 'last_name_{i}'),\n",
       " (933, 'first_name_933', 'last_name_{i}'),\n",
       " (934, 'first_name_934', 'last_name_{i}'),\n",
       " (935, 'first_name_935', 'last_name_{i}'),\n",
       " (936, 'first_name_936', 'last_name_{i}'),\n",
       " (937, 'first_name_937', 'last_name_{i}'),\n",
       " (938, 'first_name_938', 'last_name_{i}'),\n",
       " (939, 'first_name_939', 'last_name_{i}'),\n",
       " (940, 'first_name_940', 'last_name_{i}'),\n",
       " (941, 'first_name_941', 'last_name_{i}'),\n",
       " (942, 'first_name_942', 'last_name_{i}'),\n",
       " (943, 'first_name_943', 'last_name_{i}'),\n",
       " (944, 'first_name_944', 'last_name_{i}'),\n",
       " (945, 'first_name_945', 'last_name_{i}'),\n",
       " (946, 'first_name_946', 'last_name_{i}'),\n",
       " (947, 'first_name_947', 'last_name_{i}'),\n",
       " (948, 'first_name_948', 'last_name_{i}'),\n",
       " (949, 'first_name_949', 'last_name_{i}'),\n",
       " (950, 'first_name_950', 'last_name_{i}'),\n",
       " (951, 'first_name_951', 'last_name_{i}'),\n",
       " (952, 'first_name_952', 'last_name_{i}'),\n",
       " (953, 'first_name_953', 'last_name_{i}'),\n",
       " (954, 'first_name_954', 'last_name_{i}'),\n",
       " (955, 'first_name_955', 'last_name_{i}'),\n",
       " (956, 'first_name_956', 'last_name_{i}'),\n",
       " (957, 'first_name_957', 'last_name_{i}'),\n",
       " (958, 'first_name_958', 'last_name_{i}'),\n",
       " (959, 'first_name_959', 'last_name_{i}'),\n",
       " (960, 'first_name_960', 'last_name_{i}'),\n",
       " (961, 'first_name_961', 'last_name_{i}'),\n",
       " (962, 'first_name_962', 'last_name_{i}'),\n",
       " (963, 'first_name_963', 'last_name_{i}'),\n",
       " (964, 'first_name_964', 'last_name_{i}'),\n",
       " (965, 'first_name_965', 'last_name_{i}'),\n",
       " (966, 'first_name_966', 'last_name_{i}'),\n",
       " (967, 'first_name_967', 'last_name_{i}'),\n",
       " (968, 'first_name_968', 'last_name_{i}'),\n",
       " (969, 'first_name_969', 'last_name_{i}'),\n",
       " (970, 'first_name_970', 'last_name_{i}'),\n",
       " (971, 'first_name_971', 'last_name_{i}'),\n",
       " (972, 'first_name_972', 'last_name_{i}'),\n",
       " (973, 'first_name_973', 'last_name_{i}'),\n",
       " (974, 'first_name_974', 'last_name_{i}'),\n",
       " (975, 'first_name_975', 'last_name_{i}'),\n",
       " (976, 'first_name_976', 'last_name_{i}'),\n",
       " (977, 'first_name_977', 'last_name_{i}'),\n",
       " (978, 'first_name_978', 'last_name_{i}'),\n",
       " (979, 'first_name_979', 'last_name_{i}'),\n",
       " (980, 'first_name_980', 'last_name_{i}'),\n",
       " (981, 'first_name_981', 'last_name_{i}'),\n",
       " (982, 'first_name_982', 'last_name_{i}'),\n",
       " (983, 'first_name_983', 'last_name_{i}'),\n",
       " (984, 'first_name_984', 'last_name_{i}'),\n",
       " (985, 'first_name_985', 'last_name_{i}'),\n",
       " (986, 'first_name_986', 'last_name_{i}'),\n",
       " (987, 'first_name_987', 'last_name_{i}'),\n",
       " (988, 'first_name_988', 'last_name_{i}'),\n",
       " (989, 'first_name_989', 'last_name_{i}'),\n",
       " (990, 'first_name_990', 'last_name_{i}'),\n",
       " (991, 'first_name_991', 'last_name_{i}'),\n",
       " (992, 'first_name_992', 'last_name_{i}'),\n",
       " (993, 'first_name_993', 'last_name_{i}'),\n",
       " (994, 'first_name_994', 'last_name_{i}'),\n",
       " (995, 'first_name_995', 'last_name_{i}'),\n",
       " (996, 'first_name_996', 'last_name_{i}'),\n",
       " (997, 'first_name_997', 'last_name_{i}'),\n",
       " (998, 'first_name_998', 'last_name_{i}'),\n",
       " (999, 'first_name_999', 'last_name_{i}')]"
      ]
     },
     "execution_count": 38,
     "metadata": {},
     "output_type": "execute_result"
    }
   ],
   "source": [
    "USERS"
   ]
  },
  {
   "cell_type": "code",
   "execution_count": 39,
   "metadata": {},
   "outputs": [],
   "source": [
    "class User:\n",
    "    def __init__(self, user_id, first_name, last_name):\n",
    "        self.user_id = user_id\n",
    "        self.first_name = first_name\n",
    "        self.last_name = last_name"
   ]
  },
  {
   "cell_type": "code",
   "execution_count": 41,
   "metadata": {},
   "outputs": [],
   "source": [
    "def bad_users_from_rows(dbrows) -> list:\n",
    "    \"\"\"用 DB 列來建構 \"User\" 的不良案例 (非 Python 風格)。\"\"\"\n",
    "    return [User(row[0], row[1], row[3]) for row in dbrows]"
   ]
  },
  {
   "cell_type": "code",
   "execution_count": 42,
   "metadata": {},
   "outputs": [],
   "source": [
    "def users_from_rows(dbrows) -> list:\n",
    "    \"\"\"用 DB 列建構 \"User\"。\"\"\"\n",
    "    return [\n",
    "        User(user_id, first_name, last_name)\n",
    "        for (user_id, first_name, last_name) in dbrows\n",
    "    ]"
   ]
  },
  {
   "cell_type": "markdown",
   "metadata": {},
   "source": [
    "## keyword awargs"
   ]
  },
  {
   "cell_type": "code",
   "execution_count": 43,
   "metadata": {},
   "outputs": [],
   "source": [
    "def function(**kwargs):\n",
    "    print(kwargs)"
   ]
  },
  {
   "cell_type": "code",
   "execution_count": 44,
   "metadata": {},
   "outputs": [
    {
     "name": "stdout",
     "output_type": "stream",
     "text": [
      "{'key': 'value'}\n"
     ]
    }
   ],
   "source": [
    "function(key=\"value\")"
   ]
  },
  {
   "cell_type": "code",
   "execution_count": null,
   "metadata": {},
   "outputs": [],
   "source": []
  }
 ],
 "metadata": {
  "kernelspec": {
   "display_name": "Python 3",
   "language": "python",
   "name": "python3"
  },
  "language_info": {
   "codemirror_mode": {
    "name": "ipython",
    "version": 3
   },
   "file_extension": ".py",
   "mimetype": "text/x-python",
   "name": "python",
   "nbconvert_exporter": "python",
   "pygments_lexer": "ipython3",
   "version": "3.10.9"
  }
 },
 "nbformat": 4,
 "nbformat_minor": 4
}
