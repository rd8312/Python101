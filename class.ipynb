{
 "cells": [
  {
   "cell_type": "code",
   "execution_count": 1,
   "metadata": {},
   "outputs": [],
   "source": [
    "class Person():\n",
    "    pass\n",
    "\n",
    "some = Person()"
   ]
  },
  {
   "cell_type": "code",
   "execution_count": 2,
   "metadata": {},
   "outputs": [
    {
     "data": {
      "text/plain": [
       "<__main__.Person at 0x1522857ca30>"
      ]
     },
     "execution_count": 2,
     "metadata": {},
     "output_type": "execute_result"
    }
   ],
   "source": [
    "some"
   ]
  },
  {
   "cell_type": "code",
   "execution_count": 3,
   "metadata": {},
   "outputs": [
    {
     "name": "stdout",
     "output_type": "stream",
     "text": [
      "1452375788080\n"
     ]
    }
   ],
   "source": [
    "# the hexadecimal address of the \"some\" class\n",
    "print(int('0x1522857ca30', 16))"
   ]
  },
  {
   "cell_type": "code",
   "execution_count": 7,
   "metadata": {},
   "outputs": [],
   "source": [
    "class Person():\n",
    "    def __init__(self) -> None:\n",
    "        pass"
   ]
  },
  {
   "cell_type": "code",
   "execution_count": 8,
   "metadata": {},
   "outputs": [],
   "source": [
    "class Person():\n",
    "    def __init__(self, name) -> None:\n",
    "        self.name = name"
   ]
  },
  {
   "cell_type": "code",
   "execution_count": 9,
   "metadata": {},
   "outputs": [
    {
     "name": "stdout",
     "output_type": "stream",
     "text": [
      "The mighty hunter:  Elmer Fudd\n"
     ]
    }
   ],
   "source": [
    "hunter = Person(\"Elmer Fudd\")\n",
    "print(\"The mighty hunter: \", hunter.name)"
   ]
  },
  {
   "cell_type": "code",
   "execution_count": 1,
   "metadata": {},
   "outputs": [],
   "source": [
    "class Person():\n",
    "    def __init__(self, name) -> None:\n",
    "        self.name = name\n",
    "\n",
    "    def print_name(self):\n",
    "        print(\"Person name : \", self.name)"
   ]
  },
  {
   "cell_type": "code",
   "execution_count": 21,
   "metadata": {},
   "outputs": [
    {
     "name": "stdout",
     "output_type": "stream",
     "text": [
      "Person name :  Elmer Fudd\n"
     ]
    }
   ],
   "source": [
    "hunter = Person(\"Elmer Fudd\")\n",
    "hunter.print_name()"
   ]
  },
  {
   "cell_type": "code",
   "execution_count": 22,
   "metadata": {},
   "outputs": [],
   "source": [
    "# Inheritance\n",
    "# original class : parent, superclass or base class\n",
    "# new class : child, subclass or derived class"
   ]
  },
  {
   "cell_type": "code",
   "execution_count": 23,
   "metadata": {},
   "outputs": [],
   "source": [
    "class Car():\n",
    "    def exclaim(self):\n",
    "        print(\"I'm a Car!\")\n",
    "\n",
    "class Yugo(Car):\n",
    "    pass"
   ]
  },
  {
   "cell_type": "code",
   "execution_count": 24,
   "metadata": {},
   "outputs": [
    {
     "name": "stdout",
     "output_type": "stream",
     "text": [
      "I'm a Car!\n",
      "I'm a Car!\n"
     ]
    }
   ],
   "source": [
    "# Yugo is-a Car\n",
    "\n",
    "give_me_a_car = Car()\n",
    "give_me_a_yugo = Yugo()\n",
    "give_me_a_car.exclaim()\n",
    "give_me_a_yugo.exclaim()"
   ]
  },
  {
   "cell_type": "code",
   "execution_count": 25,
   "metadata": {},
   "outputs": [
    {
     "name": "stdout",
     "output_type": "stream",
     "text": [
      "I'm a Car!\n",
      "I'm a Yugo! Much like a Car, but more Yugo-ish.\n"
     ]
    }
   ],
   "source": [
    "# Override\n",
    "\n",
    "class Car():\n",
    "    def exclaim(self):\n",
    "        print(\"I'm a Car!\")\n",
    "\n",
    "class Yugo(Car):\n",
    "    def exclaim(self):\n",
    "        print(\"I'm a Yugo! Much like a Car, but more Yugo-ish.\")\n",
    "\n",
    "give_me_a_car = Car()\n",
    "give_me_a_yugo = Yugo()\n",
    "give_me_a_car.exclaim()\n",
    "give_me_a_yugo.exclaim()"
   ]
  },
  {
   "cell_type": "code",
   "execution_count": 27,
   "metadata": {},
   "outputs": [
    {
     "name": "stdout",
     "output_type": "stream",
     "text": [
      "Fudd\n",
      "Doctor Fudd\n",
      "Fudd, Esquire\n"
     ]
    }
   ],
   "source": [
    "## Override __init__\n",
    "class Person():\n",
    "    def __init__(self, name) -> None:\n",
    "        self.name = name\n",
    "\n",
    "class MDPerson(Person):\n",
    "    def __init__(self, name) -> None:\n",
    "        self.name = \"Doctor \" + name\n",
    "\n",
    "class JDPerson(Person):\n",
    "    def __init__(self, name) -> None:\n",
    "        self.name = name + \", Esquire\"\n",
    "\n",
    "person = Person('Fudd')\n",
    "doctor = MDPerson('Fudd')\n",
    "lawyar = JDPerson('Fudd')\n",
    "\n",
    "print(person.name)\n",
    "print(doctor.name)\n",
    "print(lawyar.name)"
   ]
  },
  {
   "cell_type": "code",
   "execution_count": 1,
   "metadata": {},
   "outputs": [
    {
     "name": "stdout",
     "output_type": "stream",
     "text": [
      "A little help here?\n"
     ]
    },
    {
     "ename": "AttributeError",
     "evalue": "'Car' object has no attribute 'need_a_push'",
     "output_type": "error",
     "traceback": [
      "\u001b[1;31m---------------------------------------------------------------------------\u001b[0m",
      "\u001b[1;31mAttributeError\u001b[0m                            Traceback (most recent call last)",
      "\u001b[1;32m~\\AppData\\Local\\Temp\\ipykernel_14888\\1826319122.py\u001b[0m in \u001b[0;36m<module>\u001b[1;34m\u001b[0m\n\u001b[0;32m     13\u001b[0m \u001b[0mgive_me_a_yugo\u001b[0m \u001b[1;33m=\u001b[0m \u001b[0mYugo\u001b[0m\u001b[1;33m(\u001b[0m\u001b[1;33m)\u001b[0m\u001b[1;33m\u001b[0m\u001b[1;33m\u001b[0m\u001b[0m\n\u001b[0;32m     14\u001b[0m \u001b[0mgive_me_a_yugo\u001b[0m\u001b[1;33m.\u001b[0m\u001b[0mneed_a_push\u001b[0m\u001b[1;33m(\u001b[0m\u001b[1;33m)\u001b[0m\u001b[1;33m\u001b[0m\u001b[1;33m\u001b[0m\u001b[0m\n\u001b[1;32m---> 15\u001b[1;33m \u001b[0mgive_me_a_car\u001b[0m\u001b[1;33m.\u001b[0m\u001b[0mneed_a_push\u001b[0m\u001b[1;33m(\u001b[0m\u001b[1;33m)\u001b[0m\u001b[1;33m\u001b[0m\u001b[1;33m\u001b[0m\u001b[0m\n\u001b[0m",
      "\u001b[1;31mAttributeError\u001b[0m: 'Car' object has no attribute 'need_a_push'"
     ]
    }
   ],
   "source": [
    "## add method\n",
    "class Car():\n",
    "    def exclaim(self):\n",
    "        print(\"I'm a Car!\")\n",
    "\n",
    "class Yugo(Car):\n",
    "    def exclaim(self):\n",
    "        print(\"I'm a Yugo! Much like a Car, but more Yugo-ish.\")\n",
    "    def need_a_push(self):\n",
    "        print(\"A little help here?\")\n",
    "\n",
    "give_me_a_car = Car()\n",
    "give_me_a_yugo = Yugo()\n",
    "give_me_a_yugo.need_a_push()\n",
    "give_me_a_car.need_a_push()"
   ]
  },
  {
   "cell_type": "code",
   "execution_count": 7,
   "metadata": {},
   "outputs": [],
   "source": [
    "# super() = parent object\n",
    "class Person():\n",
    "    def __init__(self, name):\n",
    "        self.name = name\n",
    "\n",
    "class EmailPerson(Person):\n",
    "    def __init__(self, name, email):\n",
    "        super().__init__(name)\n",
    "        self.email = email\n",
    "\n",
    "bob = EmailPerson(\"Bob Frapples\", \"bob@frapples.com\")"
   ]
  },
  {
   "cell_type": "code",
   "execution_count": 8,
   "metadata": {},
   "outputs": [
    {
     "data": {
      "text/plain": [
       "'Bob Frapples'"
      ]
     },
     "execution_count": 8,
     "metadata": {},
     "output_type": "execute_result"
    }
   ],
   "source": [
    "bob.name"
   ]
  },
  {
   "cell_type": "code",
   "execution_count": 9,
   "metadata": {},
   "outputs": [
    {
     "data": {
      "text/plain": [
       "'bob@frapples.com'"
      ]
     },
     "execution_count": 9,
     "metadata": {},
     "output_type": "execute_result"
    }
   ],
   "source": [
    "bob.email"
   ]
  },
  {
   "cell_type": "code",
   "execution_count": null,
   "metadata": {},
   "outputs": [],
   "source": [
    "class Person():\n",
    "    def __init__(self, name):\n",
    "        self.name = name\n",
    "\n",
    "class EmailPerson(Person):\n",
    "    def __init__(self, name, email):\n",
    "        # super().__init__(name)\n",
    "        Person.__init__(self, name)\n",
    "        self.email = email\n",
    "\n",
    "bob = EmailPerson(\"Bob Frapples\", \"bob@frapples.com\")"
   ]
  },
  {
   "cell_type": "code",
   "execution_count": null,
   "metadata": {},
   "outputs": [],
   "source": [
    "# multiple inheritance\n",
    "## https://ithelp.ithome.com.tw/articles/10222948"
   ]
  },
  {
   "cell_type": "code",
   "execution_count": 84,
   "metadata": {},
   "outputs": [
    {
     "name": "stdout",
     "output_type": "stream",
     "text": [
      "Name:Eason  Gender:Male   Department:Civil Engineering     ID:9487943\n",
      "Rank:B (Initial Score:78.2)\n"
     ]
    }
   ],
   "source": [
    "from functools import reduce\n",
    "class student:\n",
    "    def __init__(self,name='Jack',gender='F',dep=\"IT\",ID='9453',pro='Python'):\n",
    "        self.name=name\n",
    "        self.gender=gender\n",
    "        self.dep=dep\n",
    "        self.ID=ID\n",
    "        self.pro=pro\n",
    "        \n",
    "    @property\n",
    "    def gender(self):\n",
    "        return self._gender\n",
    "        \n",
    "    @gender.setter\n",
    "    def gender(self,gender):\n",
    "        if gender=='F':\n",
    "            self._gender='Female'\n",
    "        elif gender=='M':\n",
    "            self._gender='Male'\n",
    "        else:\n",
    "            raise TypeError('gender need F/M.')\n",
    "        return \n",
    "       \n",
    "\n",
    "class final_grade:\n",
    "    def __init__(self,we=[1,2,3],score=[1,2,3]):\n",
    "        self.we=we\n",
    "        self.score=score\n",
    "\n",
    "    def calculate(self):\n",
    "        weights=self.we\n",
    "        scores=self.score\n",
    "        ra=reduce(lambda a,b:a+b,map(lambda x,y:x*y,scores,weights))\n",
    "        return ra\n",
    "\n",
    "\n",
    "class Person(student,final_grade):\n",
    "    def __init__(self, name, gender, dep, ID, we,score,bonus=0):\n",
    "        student.__init__(self, name, gender, dep, ID)\n",
    "        final_grade.__init__(self, we,score)\n",
    "        self.bonus=bonus\n",
    "\n",
    "    def total(self):\n",
    "        tot=self.bonus+self.calculate()\n",
    "        return tot\n",
    "\n",
    "    def rank(self):\n",
    "        total1=self.total()\n",
    "        if total1>=90: return 'A+'\n",
    "        elif total1>=80 and total1<90: return 'A'\n",
    "        elif total1>=70 and total1<80: return 'B'\n",
    "        elif total1>=60 and total1<70: return 'C'\n",
    "        else: return 'F'\n",
    "\n",
    "\n",
    "# Main Function :\n",
    "\n",
    "w=[0.25,0.35,0.4]\n",
    "sc=[80,60,88]\n",
    "A=Person('Eason','M','Civil Engineering','9487943',w,sc,2)\n",
    "print('Name:{}  Gender:{}   Department:{}     ID:{}'.format(A.name,A.gender,A.dep,A.ID)) \n",
    "print('Rank:{} (Initial Score:{})'.format(A.rank(),A.total()))"
   ]
  },
  {
   "cell_type": "code",
   "execution_count": null,
   "metadata": {},
   "outputs": [],
   "source": []
  },
  {
   "cell_type": "code",
   "execution_count": null,
   "metadata": {},
   "outputs": [],
   "source": []
  },
  {
   "cell_type": "code",
   "execution_count": null,
   "metadata": {},
   "outputs": [],
   "source": []
  },
  {
   "cell_type": "code",
   "execution_count": 2,
   "metadata": {},
   "outputs": [
    {
     "name": "stdout",
     "output_type": "stream",
     "text": [
      "ClassA.__new__\n",
      "ClassA.__init__\n",
      "ClassA.__call__ args: ('arg1', 'arg2')\n"
     ]
    }
   ],
   "source": [
    "class ClassA:\n",
    "    def __new__(cls):\n",
    "        print(\"ClassA.__new__\")\n",
    "        return super().__new__(cls)\n",
    "    \n",
    "    def __init__(self):\n",
    "        print(\"ClassA.__init__\")\n",
    "\n",
    "    def __call__(self, *args):\n",
    "        print(\"ClassA.__call__ args:\", args)\n",
    "\n",
    "a = ClassA()\n",
    "a(\"arg1\", \"arg2\")"
   ]
  },
  {
   "cell_type": "code",
   "execution_count": 8,
   "metadata": {},
   "outputs": [
    {
     "name": "stdout",
     "output_type": "stream",
     "text": [
      "ClassB.__new__\n",
      "None\n"
     ]
    }
   ],
   "source": [
    "class ClassB:\n",
    "    def __new__(cls):\n",
    "        print(\"ClassB.__new__\")\n",
    "        # return super().__new__(cls)\n",
    "    \n",
    "    def __init__(self):\n",
    "        print(\"ClassB.__init__\")\n",
    "\n",
    "b = ClassB()\n",
    "print(b)"
   ]
  },
  {
   "cell_type": "code",
   "execution_count": 9,
   "metadata": {},
   "outputs": [
    {
     "name": "stdout",
     "output_type": "stream",
     "text": [
      "ClassB.__new__\n",
      "ClassB.__init__\n",
      "<__main__.ClassB object at 0x0000026987F75820>\n"
     ]
    }
   ],
   "source": [
    "class ClassB:\n",
    "    def __new__(cls):\n",
    "        print(\"ClassB.__new__\")\n",
    "        return super().__new__(cls)\n",
    "    \n",
    "    def __init__(self):\n",
    "        print(\"ClassB.__init__\")\n",
    "\n",
    "b = ClassB()\n",
    "print(b)"
   ]
  },
  {
   "cell_type": "code",
   "execution_count": 11,
   "metadata": {},
   "outputs": [
    {
     "name": "stdout",
     "output_type": "stream",
     "text": [
      "ClassB.__new__\n",
      "3.0\n"
     ]
    }
   ],
   "source": [
    "class ClassB:\n",
    "    def __new__(cls):\n",
    "        print(\"ClassB.__new__\")\n",
    "        return 3.0\n",
    "    \n",
    "    def __init__(self):\n",
    "        print(\"ClassB.__init__\")\n",
    "\n",
    "b = ClassB()\n",
    "print(b)"
   ]
  },
  {
   "cell_type": "code",
   "execution_count": 12,
   "metadata": {},
   "outputs": [
    {
     "name": "stdout",
     "output_type": "stream",
     "text": [
      "ClassB.__new__\n",
      "SAMPLE\n",
      "<class '__main__.Sample'>\n"
     ]
    }
   ],
   "source": [
    "## avoid writing this situation!\n",
    "class Sample:\n",
    "    def __str__(self):\n",
    "        return \"SAMPLE\"\n",
    "    \n",
    "class ClassB:\n",
    "    def __new__(cls):\n",
    "        print(\"ClassB.__new__\")\n",
    "        return super().__new__(Sample)\n",
    "        # return Sample()\n",
    "    \n",
    "    def __init__(self):\n",
    "        print(\"ClassB.__init__\")\n",
    "\n",
    "b = ClassB()\n",
    "print(b)\n",
    "print(type(b))"
   ]
  },
  {
   "cell_type": "code",
   "execution_count": 13,
   "metadata": {},
   "outputs": [
    {
     "name": "stdout",
     "output_type": "stream",
     "text": [
      "ClassC.__init__\n"
     ]
    },
    {
     "ename": "TypeError",
     "evalue": "__init__() should return None, not 'float'",
     "output_type": "error",
     "traceback": [
      "\u001b[1;31m---------------------------------------------------------------------------\u001b[0m",
      "\u001b[1;31mTypeError\u001b[0m                                 Traceback (most recent call last)",
      "\u001b[1;32m~\\AppData\\Local\\Temp\\ipykernel_7172\\2564543029.py\u001b[0m in \u001b[0;36m<module>\u001b[1;34m\u001b[0m\n\u001b[0;32m      5\u001b[0m         \u001b[1;32mreturn\u001b[0m \u001b[1;36m3.0\u001b[0m\u001b[1;33m\u001b[0m\u001b[1;33m\u001b[0m\u001b[0m\n\u001b[0;32m      6\u001b[0m \u001b[1;33m\u001b[0m\u001b[0m\n\u001b[1;32m----> 7\u001b[1;33m \u001b[0mc\u001b[0m \u001b[1;33m=\u001b[0m \u001b[0mClassC\u001b[0m\u001b[1;33m(\u001b[0m\u001b[1;33m)\u001b[0m\u001b[1;33m\u001b[0m\u001b[1;33m\u001b[0m\u001b[0m\n\u001b[0m\u001b[0;32m      8\u001b[0m \u001b[0mprint\u001b[0m\u001b[1;33m(\u001b[0m\u001b[0mc\u001b[0m\u001b[1;33m)\u001b[0m\u001b[1;33m\u001b[0m\u001b[1;33m\u001b[0m\u001b[0m\n",
      "\u001b[1;31mTypeError\u001b[0m: __init__() should return None, not 'float'"
     ]
    }
   ],
   "source": [
    "# __init__ function can't return anything\n",
    "class ClassC:\n",
    "\n",
    "    def __init__(self):\n",
    "        print(\"ClassC.__init__\")\n",
    "        return 3.0\n",
    "\n",
    "c = ClassC()\n",
    "print(c)"
   ]
  },
  {
   "cell_type": "code",
   "execution_count": 15,
   "metadata": {},
   "outputs": [
    {
     "name": "stdout",
     "output_type": "stream",
     "text": [
      "new ('arg1', 'arg2') {'a': 1, 'b': 2}\n",
      "init ('arg1', 'arg2') {'a': 1, 'b': 2}\n"
     ]
    }
   ],
   "source": [
    "# __new__, __init__ *args, **kwargs must be identical\n",
    "class ClassC:\n",
    "    def __init__(self, *args, **kwargs):\n",
    "        print(\"init\", args, kwargs)\n",
    "\n",
    "    def __new__(cls, *args, **kwargs):\n",
    "        print(\"new\", args, kwargs)\n",
    "        return super().__new__(cls)\n",
    "\n",
    "c = ClassC(\"arg1\", \"arg2\", a=1, b=2)"
   ]
  },
  {
   "cell_type": "code",
   "execution_count": 1,
   "metadata": {},
   "outputs": [
    {
     "name": "stdout",
     "output_type": "stream",
     "text": [
      "ClassB.__new__\n",
      "<__main__.ClassD object at 0x000001B853F7FB20>\n",
      "ClassC.__init__\n",
      "<__main__.ClassD object at 0x000001B853F7FB20>\n"
     ]
    }
   ],
   "source": [
    "# building sequence\n",
    "class ClassD:\n",
    "    def __new__(cls):\n",
    "        print(\"ClassB.__new__\")\n",
    "        self = super().__new__(cls)\n",
    "        print(self)\n",
    "        return self\n",
    "    \n",
    "    def __init__(self):\n",
    "        print(\"ClassC.__init__\")\n",
    "        print(self)\n",
    "\n",
    "d = ClassD()"
   ]
  },
  {
   "cell_type": "code",
   "execution_count": 2,
   "metadata": {},
   "outputs": [
    {
     "name": "stdout",
     "output_type": "stream",
     "text": [
      "True\n",
      "True\n",
      "True\n",
      "True\n",
      "False\n",
      "This is test function, name: Python\n"
     ]
    }
   ],
   "source": [
    "# __call__\n",
    "def funTest(name):\n",
    "    print(\"This is test function, name:\", name)\n",
    "\n",
    "print(callable(filter))\n",
    "print(callable(max))\n",
    "print(callable(object))\n",
    "print(callable(funTest))\n",
    "var = \"Test\"\n",
    "print(callable(var))\n",
    "funTest(\"Python\")"
   ]
  },
  {
   "cell_type": "code",
   "execution_count": 3,
   "metadata": {},
   "outputs": [
    {
     "name": "stdout",
     "output_type": "stream",
     "text": [
      "False\n"
     ]
    }
   ],
   "source": [
    "class ClassE:\n",
    "    pass\n",
    "\n",
    "e = ClassE()\n",
    "print(callable(e))"
   ]
  },
  {
   "cell_type": "code",
   "execution_count": 4,
   "metadata": {},
   "outputs": [
    {
     "name": "stdout",
     "output_type": "stream",
     "text": [
      "True\n",
      "This is __call__ function, args: ('arg1', 'arg2')\n"
     ]
    }
   ],
   "source": [
    "class ClassE:\n",
    "    def __call__(self, *args):\n",
    "        print(\"This is __call__ function, args:\", args)\n",
    "\n",
    "e = ClassE()\n",
    "print(callable(e))\n",
    "e(\"arg1\", \"arg2\")"
   ]
  },
  {
   "cell_type": "code",
   "execution_count": 7,
   "metadata": {},
   "outputs": [
    {
     "name": "stdout",
     "output_type": "stream",
     "text": [
      "Instance Created\n",
      "<__main__.Example object at 0x000001B853E59FD0>\n",
      "Instance is called via special method\n"
     ]
    }
   ],
   "source": [
    "# ref: https://www.geeksforgeeks.org/__call__-in-python/\n",
    "\n",
    "class Example:\n",
    "    def __init__(self):\n",
    "        print(\"Instance Created\")\n",
    "      \n",
    "    # Defining __call__ method\n",
    "    def __call__(self):\n",
    "        print(\"Instance is called via special method\")\n",
    "  \n",
    "# Instance created\n",
    "e = Example()\n",
    "print(e)\n",
    "  \n",
    "# __call__ method will be called\n",
    "e()"
   ]
  },
  {
   "cell_type": "code",
   "execution_count": 8,
   "metadata": {},
   "outputs": [
    {
     "name": "stdout",
     "output_type": "stream",
     "text": [
      "Instance Created\n",
      "200\n"
     ]
    }
   ],
   "source": [
    "class Product:\n",
    "    def __init__(self):\n",
    "        print(\"Instance Created\")\n",
    "  \n",
    "    # Defining __call__ method\n",
    "    def __call__(self, a, b):\n",
    "        print(a * b)\n",
    "  \n",
    "# Instance created\n",
    "ans = Product()\n",
    "  \n",
    "# __call__ method will be called\n",
    "ans(10, 20)"
   ]
  },
  {
   "cell_type": "code",
   "execution_count": null,
   "metadata": {},
   "outputs": [],
   "source": []
  },
  {
   "cell_type": "code",
   "execution_count": 9,
   "metadata": {},
   "outputs": [
    {
     "name": "stdout",
     "output_type": "stream",
     "text": [
      "<class '__main__.ClassA'>\n",
      "<class 'float'>\n",
      "<class 'str'>\n",
      "\n",
      "<class '__main__.ClassA'>\n",
      "<class 'float'>\n"
     ]
    }
   ],
   "source": [
    "# type() == object.__class__\n",
    "class ClassA:\n",
    "    name = \"type test\"\n",
    "\n",
    "a = ClassA()\n",
    "b = 3.0\n",
    "print(type(a))\n",
    "print(type(b))\n",
    "print(type(\"This is string\"))\n",
    "print()\n",
    "print(a.__class__)\n",
    "print(b.__class__)"
   ]
  },
  {
   "cell_type": "code",
   "execution_count": 1,
   "metadata": {},
   "outputs": [
    {
     "name": "stdout",
     "output_type": "stream",
     "text": [
      "123\n",
      "today\n"
     ]
    }
   ],
   "source": [
    "# ref : https://clay-atlas.com/blog/2019/11/30/python-chinese-tutorial-function-setattr-getattr/\n",
    "# setattr, getattr\n",
    "\n",
    "class test(object):\n",
    "    a = 123\n",
    "    b = 'today'\n",
    "\n",
    "\n",
    "print(getattr(test, 'a'))\n",
    "print(getattr(test, 'b'))"
   ]
  },
  {
   "cell_type": "code",
   "execution_count": 2,
   "metadata": {},
   "outputs": [
    {
     "name": "stdout",
     "output_type": "stream",
     "text": [
      "777\n",
      "yesterday\n"
     ]
    }
   ],
   "source": [
    "class test(object):\n",
    "    a = 123\n",
    "    b = 'today'\n",
    "\n",
    "setattr(test, 'a', 777)\n",
    "setattr(test, 'b', 'yesterday')\n",
    "print(getattr(test, 'a'))\n",
    "print(getattr(test, 'b'))"
   ]
  },
  {
   "cell_type": "code",
   "execution_count": null,
   "metadata": {},
   "outputs": [],
   "source": []
  },
  {
   "cell_type": "code",
   "execution_count": 10,
   "metadata": {},
   "outputs": [],
   "source": [
    "# ref: https://www.maxlist.xyz/2019/12/25/python-property/\n",
    "# @property\n",
    "\n",
    "class Bank_acount:\n",
    "    @property\n",
    "    def password(self):\n",
    "        return \"密碼:123\""
   ]
  },
  {
   "cell_type": "code",
   "execution_count": 11,
   "metadata": {},
   "outputs": [
    {
     "name": "stdout",
     "output_type": "stream",
     "text": [
      "密碼:123\n"
     ]
    },
    {
     "ename": "AttributeError",
     "evalue": "can't set attribute",
     "output_type": "error",
     "traceback": [
      "\u001b[1;31m---------------------------------------------------------------------------\u001b[0m",
      "\u001b[1;31mAttributeError\u001b[0m                            Traceback (most recent call last)",
      "\u001b[1;32m~\\AppData\\Local\\Temp\\ipykernel_3256\\2920766024.py\u001b[0m in \u001b[0;36m<module>\u001b[1;34m\u001b[0m\n\u001b[0;32m      1\u001b[0m \u001b[0mandy\u001b[0m \u001b[1;33m=\u001b[0m \u001b[0mBank_acount\u001b[0m\u001b[1;33m(\u001b[0m\u001b[1;33m)\u001b[0m\u001b[1;33m\u001b[0m\u001b[1;33m\u001b[0m\u001b[0m\n\u001b[0;32m      2\u001b[0m \u001b[0mprint\u001b[0m\u001b[1;33m(\u001b[0m\u001b[0mandy\u001b[0m\u001b[1;33m.\u001b[0m\u001b[0mpassword\u001b[0m\u001b[1;33m)\u001b[0m\u001b[1;33m\u001b[0m\u001b[1;33m\u001b[0m\u001b[0m\n\u001b[1;32m----> 3\u001b[1;33m \u001b[0mandy\u001b[0m\u001b[1;33m.\u001b[0m\u001b[0mpassword\u001b[0m \u001b[1;33m=\u001b[0m \u001b[1;34m'密碼:456'\u001b[0m\u001b[1;33m\u001b[0m\u001b[1;33m\u001b[0m\u001b[0m\n\u001b[0m",
      "\u001b[1;31mAttributeError\u001b[0m: can't set attribute"
     ]
    }
   ],
   "source": [
    "# error : only get attributes\n",
    "andy = Bank_acount()\n",
    "print(andy.password)\n",
    "andy.password = '密碼:456'"
   ]
  },
  {
   "cell_type": "code",
   "execution_count": 12,
   "metadata": {},
   "outputs": [],
   "source": [
    "# the methods of the class \"property\" : setter, deleter\n",
    "class Bank_acount:\n",
    "    def __init__(self):\n",
    "        self._password = \"預設密碼 0000\"\n",
    " \n",
    "    @property\n",
    "    def password(self):\n",
    "        return self._password\n",
    " \n",
    "    @password.setter\n",
    "    def password(self, value):\n",
    "        self._password = value\n",
    " \n",
    "    @password.deleter\n",
    "    def password(self):\n",
    "        del self._password\n",
    "        print('del complite')"
   ]
  },
  {
   "cell_type": "code",
   "execution_count": 13,
   "metadata": {},
   "outputs": [
    {
     "name": "stdout",
     "output_type": "stream",
     "text": [
      "預設密碼 0000\n",
      "1234\n",
      "del complite\n"
     ]
    },
    {
     "ename": "AttributeError",
     "evalue": "'Bank_acount' object has no attribute '_password'",
     "output_type": "error",
     "traceback": [
      "\u001b[1;31m---------------------------------------------------------------------------\u001b[0m",
      "\u001b[1;31mAttributeError\u001b[0m                            Traceback (most recent call last)",
      "\u001b[1;32m~\\AppData\\Local\\Temp\\ipykernel_3256\\955018110.py\u001b[0m in \u001b[0;36m<module>\u001b[1;34m\u001b[0m\n\u001b[0;32m      6\u001b[0m \u001b[1;33m\u001b[0m\u001b[0m\n\u001b[0;32m      7\u001b[0m \u001b[1;32mdel\u001b[0m \u001b[0mandy\u001b[0m\u001b[1;33m.\u001b[0m\u001b[0mpassword\u001b[0m\u001b[1;33m\u001b[0m\u001b[1;33m\u001b[0m\u001b[0m\n\u001b[1;32m----> 8\u001b[1;33m \u001b[0mprint\u001b[0m\u001b[1;33m(\u001b[0m\u001b[0mandy\u001b[0m\u001b[1;33m.\u001b[0m\u001b[0mpassword\u001b[0m\u001b[1;33m)\u001b[0m\u001b[1;33m\u001b[0m\u001b[1;33m\u001b[0m\u001b[0m\n\u001b[0m",
      "\u001b[1;32m~\\AppData\\Local\\Temp\\ipykernel_3256\\849778886.py\u001b[0m in \u001b[0;36mpassword\u001b[1;34m(self)\u001b[0m\n\u001b[0;32m      5\u001b[0m     \u001b[1;33m@\u001b[0m\u001b[0mproperty\u001b[0m\u001b[1;33m\u001b[0m\u001b[1;33m\u001b[0m\u001b[0m\n\u001b[0;32m      6\u001b[0m     \u001b[1;32mdef\u001b[0m \u001b[0mpassword\u001b[0m\u001b[1;33m(\u001b[0m\u001b[0mself\u001b[0m\u001b[1;33m)\u001b[0m\u001b[1;33m:\u001b[0m\u001b[1;33m\u001b[0m\u001b[1;33m\u001b[0m\u001b[0m\n\u001b[1;32m----> 7\u001b[1;33m         \u001b[1;32mreturn\u001b[0m \u001b[0mself\u001b[0m\u001b[1;33m.\u001b[0m\u001b[0m_password\u001b[0m\u001b[1;33m\u001b[0m\u001b[1;33m\u001b[0m\u001b[0m\n\u001b[0m\u001b[0;32m      8\u001b[0m \u001b[1;33m\u001b[0m\u001b[0m\n\u001b[0;32m      9\u001b[0m     \u001b[1;33m@\u001b[0m\u001b[0mpassword\u001b[0m\u001b[1;33m.\u001b[0m\u001b[0msetter\u001b[0m\u001b[1;33m\u001b[0m\u001b[1;33m\u001b[0m\u001b[0m\n",
      "\u001b[1;31mAttributeError\u001b[0m: 'Bank_acount' object has no attribute '_password'"
     ]
    }
   ],
   "source": [
    "andy = Bank_acount()\n",
    "print(andy.password)\n",
    "\n",
    "andy.password = '1234'\n",
    "print(andy.password)\n",
    "\n",
    "del andy.password\n",
    "print(andy.password)"
   ]
  },
  {
   "cell_type": "code",
   "execution_count": 14,
   "metadata": {},
   "outputs": [],
   "source": [
    "from werkzeug.security import generate_password_hash, check_password_hash\n",
    " \n",
    "class User:\n",
    "    @property\n",
    "    def password(self):\n",
    "        raise AttributeError('password is not readable attribute')\n",
    " \n",
    "    @password.setter\n",
    "    def password(self, password):\n",
    "        self.password_hash = generate_password_hash(password)\n",
    " \n",
    "    def verify_password(self, password):\n",
    "        return check_password_hash(self.password_hash, password)"
   ]
  },
  {
   "cell_type": "code",
   "execution_count": 15,
   "metadata": {},
   "outputs": [],
   "source": [
    "user_max = User()\n",
    "user_max.password = 'max'"
   ]
  },
  {
   "cell_type": "code",
   "execution_count": 16,
   "metadata": {},
   "outputs": [
    {
     "ename": "AttributeError",
     "evalue": "password is not readable attribute",
     "output_type": "error",
     "traceback": [
      "\u001b[1;31m---------------------------------------------------------------------------\u001b[0m",
      "\u001b[1;31mAttributeError\u001b[0m                            Traceback (most recent call last)",
      "\u001b[1;32m~\\AppData\\Local\\Temp\\ipykernel_3256\\1948750378.py\u001b[0m in \u001b[0;36m<module>\u001b[1;34m\u001b[0m\n\u001b[1;32m----> 1\u001b[1;33m \u001b[0mprint\u001b[0m\u001b[1;33m(\u001b[0m\u001b[0muser_max\u001b[0m\u001b[1;33m.\u001b[0m\u001b[0mpassword\u001b[0m\u001b[1;33m)\u001b[0m\u001b[1;33m\u001b[0m\u001b[1;33m\u001b[0m\u001b[0m\n\u001b[0m",
      "\u001b[1;32m~\\AppData\\Local\\Temp\\ipykernel_3256\\1025468516.py\u001b[0m in \u001b[0;36mpassword\u001b[1;34m(self)\u001b[0m\n\u001b[0;32m      4\u001b[0m     \u001b[1;33m@\u001b[0m\u001b[0mproperty\u001b[0m\u001b[1;33m\u001b[0m\u001b[1;33m\u001b[0m\u001b[0m\n\u001b[0;32m      5\u001b[0m     \u001b[1;32mdef\u001b[0m \u001b[0mpassword\u001b[0m\u001b[1;33m(\u001b[0m\u001b[0mself\u001b[0m\u001b[1;33m)\u001b[0m\u001b[1;33m:\u001b[0m\u001b[1;33m\u001b[0m\u001b[1;33m\u001b[0m\u001b[0m\n\u001b[1;32m----> 6\u001b[1;33m         \u001b[1;32mraise\u001b[0m \u001b[0mAttributeError\u001b[0m\u001b[1;33m(\u001b[0m\u001b[1;34m'password is not readable attribute'\u001b[0m\u001b[1;33m)\u001b[0m\u001b[1;33m\u001b[0m\u001b[1;33m\u001b[0m\u001b[0m\n\u001b[0m\u001b[0;32m      7\u001b[0m \u001b[1;33m\u001b[0m\u001b[0m\n\u001b[0;32m      8\u001b[0m     \u001b[1;33m@\u001b[0m\u001b[0mpassword\u001b[0m\u001b[1;33m.\u001b[0m\u001b[0msetter\u001b[0m\u001b[1;33m\u001b[0m\u001b[1;33m\u001b[0m\u001b[0m\n",
      "\u001b[1;31mAttributeError\u001b[0m: password is not readable attribute"
     ]
    }
   ],
   "source": [
    "print(user_max.password)"
   ]
  },
  {
   "cell_type": "code",
   "execution_count": 17,
   "metadata": {},
   "outputs": [
    {
     "name": "stdout",
     "output_type": "stream",
     "text": [
      "pbkdf2:sha256:260000$WztushPEk2UPcyfF$0caacbe15b14c14f5f92fde845c573fdf0779f517a4da1cf8a3b443a84ff2ac6\n"
     ]
    }
   ],
   "source": [
    "print(user_max.password_hash)"
   ]
  },
  {
   "cell_type": "code",
   "execution_count": 18,
   "metadata": {},
   "outputs": [
    {
     "name": "stdout",
     "output_type": "stream",
     "text": [
      "True\n",
      "False\n"
     ]
    }
   ],
   "source": [
    "print(user_max.verify_password('max'))\n",
    "print(user_max.verify_password('cat'))"
   ]
  },
  {
   "cell_type": "code",
   "execution_count": null,
   "metadata": {},
   "outputs": [],
   "source": []
  }
 ],
 "metadata": {
  "kernelspec": {
   "display_name": "base",
   "language": "python",
   "name": "python3"
  },
  "language_info": {
   "codemirror_mode": {
    "name": "ipython",
    "version": 3
   },
   "file_extension": ".py",
   "mimetype": "text/x-python",
   "name": "python",
   "nbconvert_exporter": "python",
   "pygments_lexer": "ipython3",
   "version": "3.8.13"
  },
  "orig_nbformat": 4,
  "vscode": {
   "interpreter": {
    "hash": "58593913881abfeee856f0be1eafde634857509d35118a6adb9cda25bf431125"
   }
  }
 },
 "nbformat": 4,
 "nbformat_minor": 2
}
