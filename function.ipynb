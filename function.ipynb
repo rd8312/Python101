{
 "cells": [
  {
   "cell_type": "code",
   "execution_count": 1,
   "metadata": {},
   "outputs": [],
   "source": [
    "def do_nothing():\n",
    "    pass"
   ]
  },
  {
   "cell_type": "code",
   "execution_count": 2,
   "metadata": {},
   "outputs": [],
   "source": [
    "do_nothing()"
   ]
  },
  {
   "cell_type": "code",
   "execution_count": 8,
   "metadata": {},
   "outputs": [
    {
     "name": "stdout",
     "output_type": "stream",
     "text": [
      "None\n"
     ]
    }
   ],
   "source": [
    "print(do_nothing())"
   ]
  },
  {
   "cell_type": "code",
   "execution_count": 9,
   "metadata": {},
   "outputs": [
    {
     "name": "stdout",
     "output_type": "stream",
     "text": [
      "It's no thing\n"
     ]
    }
   ],
   "source": [
    "thing = None\n",
    "if thing:\n",
    "    print(\"It's some thing\")\n",
    "else:\n",
    "    print(\"It's no thing\")\n"
   ]
  },
  {
   "cell_type": "code",
   "execution_count": 10,
   "metadata": {},
   "outputs": [
    {
     "name": "stdout",
     "output_type": "stream",
     "text": [
      "It's nothing\n"
     ]
    }
   ],
   "source": [
    "thing = None\n",
    "if thing is None:\n",
    "    print(\"It's nothing\")\n",
    "else:\n",
    "    print(\"It's something\")"
   ]
  },
  {
   "cell_type": "code",
   "execution_count": 11,
   "metadata": {},
   "outputs": [
    {
     "name": "stdout",
     "output_type": "stream",
     "text": [
      "It's something\n"
     ]
    }
   ],
   "source": [
    "thing = False\n",
    "if thing is None:\n",
    "    print(\"It's nothing\")\n",
    "else:\n",
    "    print(\"It's something\")"
   ]
  },
  {
   "cell_type": "code",
   "execution_count": 12,
   "metadata": {},
   "outputs": [],
   "source": [
    "def is_none(thing):\n",
    "    if thing is None:\n",
    "        print(\"It's None\")\n",
    "    elif thing:\n",
    "        print(\"It's True\")\n",
    "    else:\n",
    "        print(\"It's False\")"
   ]
  },
  {
   "cell_type": "code",
   "execution_count": 13,
   "metadata": {},
   "outputs": [
    {
     "name": "stdout",
     "output_type": "stream",
     "text": [
      "It's None\n",
      "It's True\n",
      "It's False\n",
      "It's False\n",
      "It's False\n",
      "It's False\n",
      "It's False\n",
      "It's False\n",
      "It's False\n"
     ]
    }
   ],
   "source": [
    "is_none(None)\n",
    "is_none(True)\n",
    "is_none(False)\n",
    "is_none(0)\n",
    "is_none(0.0)\n",
    "is_none(())\n",
    "is_none([])\n",
    "is_none({})\n",
    "is_none(set())"
   ]
  },
  {
   "cell_type": "code",
   "execution_count": 3,
   "metadata": {},
   "outputs": [
    {
     "name": "stdout",
     "output_type": "stream",
     "text": [
      "quack\n"
     ]
    }
   ],
   "source": [
    "def make_a_sound():\n",
    "    print('quack')\n",
    "\n",
    "make_a_sound()"
   ]
  },
  {
   "cell_type": "code",
   "execution_count": 4,
   "metadata": {},
   "outputs": [
    {
     "name": "stdout",
     "output_type": "stream",
     "text": [
      "Splendid\n"
     ]
    }
   ],
   "source": [
    "# return bool\n",
    "\n",
    "def agree():\n",
    "    return True\n",
    "\n",
    "if agree():\n",
    "    print(\"Splendid\")\n",
    "else:\n",
    "    print(\"That was unexpected.\")"
   ]
  },
  {
   "cell_type": "code",
   "execution_count": 7,
   "metadata": {},
   "outputs": [
    {
     "data": {
      "text/plain": [
       "'Rumplestiltskin Rumplestiltskin'"
      ]
     },
     "execution_count": 7,
     "metadata": {},
     "output_type": "execute_result"
    }
   ],
   "source": [
    "# return strings\n",
    "# arguement : anything\n",
    "\n",
    "def echo(anything):\n",
    "    return anything + ' ' + anything\n",
    "\n",
    "echo(\"Rumplestiltskin\")"
   ]
  },
  {
   "cell_type": "code",
   "execution_count": 14,
   "metadata": {},
   "outputs": [
    {
     "data": {
      "text/plain": [
       "{'wine': 'chardonnay', 'entree': 'chicken', 'dessert': 'cake'}"
      ]
     },
     "execution_count": 14,
     "metadata": {},
     "output_type": "execute_result"
    }
   ],
   "source": [
    "# Positional Argument\n",
    "\n",
    "def menu(wine, entree, dessert):\n",
    "    return {'wine': wine, 'entree': entree, 'dessert': dessert}\n",
    "\n",
    "menu('chardonnay', 'chicken', 'cake')"
   ]
  },
  {
   "cell_type": "code",
   "execution_count": 15,
   "metadata": {},
   "outputs": [
    {
     "data": {
      "text/plain": [
       "{'wine': 'bordeaux', 'entree': 'beef', 'dessert': 'bagel'}"
      ]
     },
     "execution_count": 15,
     "metadata": {},
     "output_type": "execute_result"
    }
   ],
   "source": [
    "# Keyword Argument\n",
    "\n",
    "menu(entree='beef', dessert='bagel', wine='bordeaux')"
   ]
  },
  {
   "cell_type": "code",
   "execution_count": 16,
   "metadata": {},
   "outputs": [
    {
     "data": {
      "text/plain": [
       "{'wine': 'frontenac', 'entree': 'fish', 'dessert': 'flan'}"
      ]
     },
     "execution_count": 16,
     "metadata": {},
     "output_type": "execute_result"
    }
   ],
   "source": [
    "# Positional Argument must be infront of keyword Argument\n",
    "menu('frontenac', dessert='flan', entree='fish')"
   ]
  },
  {
   "cell_type": "code",
   "execution_count": 18,
   "metadata": {},
   "outputs": [],
   "source": [
    "# default value\n",
    "\n",
    "def menu(wine, entree, dessert='pudding'):\n",
    "    return {'wine': wine, 'entree': entree, 'dessert': dessert}"
   ]
  },
  {
   "cell_type": "code",
   "execution_count": 19,
   "metadata": {},
   "outputs": [
    {
     "data": {
      "text/plain": [
       "{'wine': 'chardonnay', 'entree': 'chicken', 'dessert': 'pudding'}"
      ]
     },
     "execution_count": 19,
     "metadata": {},
     "output_type": "execute_result"
    }
   ],
   "source": [
    "menu('chardonnay', 'chicken')"
   ]
  },
  {
   "cell_type": "code",
   "execution_count": 20,
   "metadata": {},
   "outputs": [
    {
     "data": {
      "text/plain": [
       "{'wine': 'chardonnay', 'entree': 'chicken', 'dessert': 'doughnut'}"
      ]
     },
     "execution_count": 20,
     "metadata": {},
     "output_type": "execute_result"
    }
   ],
   "source": [
    "menu('chardonnay', 'chicken', 'doughnut')"
   ]
  },
  {
   "cell_type": "code",
   "execution_count": 21,
   "metadata": {},
   "outputs": [
    {
     "name": "stdout",
     "output_type": "stream",
     "text": [
      "['a']\n"
     ]
    }
   ],
   "source": [
    "# warning\n",
    "# defalue values are dictionary or list\n",
    "\n",
    "def buggy(arg, result=[]):\n",
    "    result.append(arg)\n",
    "    print(result)\n",
    "\n",
    "buggy('a')"
   ]
  },
  {
   "cell_type": "code",
   "execution_count": 22,
   "metadata": {},
   "outputs": [
    {
     "name": "stdout",
     "output_type": "stream",
     "text": [
      "['a', 'b']\n"
     ]
    }
   ],
   "source": [
    "buggy('b')"
   ]
  },
  {
   "cell_type": "code",
   "execution_count": 24,
   "metadata": {},
   "outputs": [
    {
     "name": "stdout",
     "output_type": "stream",
     "text": [
      "['a']\n"
     ]
    }
   ],
   "source": [
    "def nonbuggy(arg, result=None):\n",
    "    if result == None:\n",
    "        result = []\n",
    "    result.append(arg)\n",
    "    print(result)\n",
    "\n",
    "nonbuggy('a')"
   ]
  },
  {
   "cell_type": "code",
   "execution_count": 25,
   "metadata": {},
   "outputs": [
    {
     "name": "stdout",
     "output_type": "stream",
     "text": [
      "['b']\n"
     ]
    }
   ],
   "source": [
    "nonbuggy('b')"
   ]
  },
  {
   "cell_type": "code",
   "execution_count": 27,
   "metadata": {},
   "outputs": [
    {
     "name": "stdout",
     "output_type": "stream",
     "text": [
      "['a', 'b']\n"
     ]
    }
   ],
   "source": [
    "nonbuggy('b', ['a'])"
   ]
  },
  {
   "cell_type": "code",
   "execution_count": 1,
   "metadata": {},
   "outputs": [
    {
     "name": "stdout",
     "output_type": "stream",
     "text": [
      "Positional argument tuple: ()\n"
     ]
    }
   ],
   "source": [
    "# use * to collect position arguements\n",
    "\n",
    "def print_args(*args):\n",
    "    print(\"Positional argument tuple:\", args)\n",
    "\n",
    "print_args()"
   ]
  },
  {
   "cell_type": "code",
   "execution_count": 2,
   "metadata": {},
   "outputs": [
    {
     "name": "stdout",
     "output_type": "stream",
     "text": [
      "Positional argument tuple: (3, 2, 1, 'wait!', 'uh...')\n"
     ]
    }
   ],
   "source": [
    "print_args(3, 2, 1, \"wait!\", \"uh...\")"
   ]
  },
  {
   "cell_type": "code",
   "execution_count": 3,
   "metadata": {},
   "outputs": [
    {
     "name": "stdout",
     "output_type": "stream",
     "text": [
      "Need this one: cap\n",
      "Need this two: gloves\n",
      "All the rest: ('scarf', 'monocle', 'mustache wax')\n"
     ]
    }
   ],
   "source": [
    "# arbitrary args\n",
    "def print_more(required1, required2, *args):\n",
    "    print(\"Need this one:\", required1)\n",
    "    print(\"Need this two:\", required2)\n",
    "    print(\"All the rest:\", args)\n",
    "\n",
    "print_more(\"cap\", \"gloves\", \"scarf\", \"monocle\", \"mustache wax\")"
   ]
  },
  {
   "cell_type": "code",
   "execution_count": 4,
   "metadata": {},
   "outputs": [
    {
     "name": "stdout",
     "output_type": "stream",
     "text": [
      "Keyword arguments: {'wine': 'merlot', 'entree': 'mutton', 'dessert': 'macaroon'}\n"
     ]
    }
   ],
   "source": [
    "# use ** to collect keyword arguements\n",
    "def print_kwargs(**kwargs):\n",
    "    print(\"Keyword arguments:\", kwargs)\n",
    "\n",
    "print_kwargs(wine=\"merlot\", entree=\"mutton\", dessert=\"macaroon\")"
   ]
  },
  {
   "cell_type": "code",
   "execution_count": 5,
   "metadata": {},
   "outputs": [],
   "source": [
    "# docstring\n",
    "def echo(anything):\n",
    "    'echo returns its input argument'\n",
    "    return anything\n",
    "\n",
    "def print_if_true(thing, check):\n",
    "    \"\"\"\n",
    "    Prints the first argument if a second argument is true.\n",
    "    The operation is:\n",
    "        1. Check whether the *seccond* argument is true.\n",
    "        2. If it is, print the *first* argument.\n",
    "    \"\"\"\n",
    "    if check:\n",
    "        print(thing)"
   ]
  },
  {
   "cell_type": "code",
   "execution_count": 6,
   "metadata": {},
   "outputs": [
    {
     "name": "stdout",
     "output_type": "stream",
     "text": [
      "Help on function echo in module __main__:\n",
      "\n",
      "echo(anything)\n",
      "    echo returns its input argument\n",
      "\n",
      "Help on function print_if_true in module __main__:\n",
      "\n",
      "print_if_true(thing, check)\n",
      "    Prints the first argument if a second argument is true.\n",
      "    The operation is:\n",
      "        1. Check whether the *seccond* argument is true.\n",
      "        2. If it is, print the *first* argument.\n",
      "\n"
     ]
    }
   ],
   "source": [
    "help(echo)\n",
    "help(print_if_true)"
   ]
  },
  {
   "cell_type": "code",
   "execution_count": 8,
   "metadata": {},
   "outputs": [
    {
     "name": "stdout",
     "output_type": "stream",
     "text": [
      "echo returns its input argument\n",
      "\n",
      "    Prints the first argument if a second argument is true.\n",
      "    The operation is:\n",
      "        1. Check whether the *seccond* argument is true.\n",
      "        2. If it is, print the *first* argument.\n",
      "    \n"
     ]
    }
   ],
   "source": [
    "print(echo.__doc__)\n",
    "print(print_if_true.__doc__)"
   ]
  },
  {
   "cell_type": "code",
   "execution_count": 10,
   "metadata": {},
   "outputs": [
    {
     "name": "stdout",
     "output_type": "stream",
     "text": [
      "42\n"
     ]
    }
   ],
   "source": [
    "# first-class function\n",
    "def answer():\n",
    "    print(42)\n",
    "\n",
    "answer()"
   ]
  },
  {
   "cell_type": "code",
   "execution_count": 11,
   "metadata": {},
   "outputs": [
    {
     "name": "stdout",
     "output_type": "stream",
     "text": [
      "42\n"
     ]
    }
   ],
   "source": [
    "def run_something(func):\n",
    "    func()\n",
    "\n",
    "run_something(answer)"
   ]
  },
  {
   "cell_type": "code",
   "execution_count": 12,
   "metadata": {},
   "outputs": [
    {
     "data": {
      "text/plain": [
       "function"
      ]
     },
     "execution_count": 12,
     "metadata": {},
     "output_type": "execute_result"
    }
   ],
   "source": [
    "type(run_something)"
   ]
  },
  {
   "cell_type": "code",
   "execution_count": 13,
   "metadata": {},
   "outputs": [
    {
     "name": "stdout",
     "output_type": "stream",
     "text": [
      "14\n"
     ]
    }
   ],
   "source": [
    "def addargs(arg1, arg2):\n",
    "    print(arg1 + arg2)\n",
    "\n",
    "def run_something_with_args(func, arg1, arg2):\n",
    "    func(arg1, arg2)\n",
    "\n",
    "run_something_with_args(addargs, 5, 9)"
   ]
  },
  {
   "cell_type": "code",
   "execution_count": 14,
   "metadata": {},
   "outputs": [
    {
     "data": {
      "text/plain": [
       "10"
      ]
     },
     "execution_count": 14,
     "metadata": {},
     "output_type": "execute_result"
    }
   ],
   "source": [
    "def sum_args(*args):\n",
    "    return sum(args)\n",
    "\n",
    "def run_with_positional_args(func, *args):\n",
    "    return func(*args)\n",
    "\n",
    "run_with_positional_args(sum_args, 1, 2, 3, 4)"
   ]
  },
  {
   "cell_type": "code",
   "execution_count": 6,
   "metadata": {},
   "outputs": [
    {
     "data": {
      "text/plain": [
       "11"
      ]
     },
     "execution_count": 6,
     "metadata": {},
     "output_type": "execute_result"
    }
   ],
   "source": [
    "# inner function\n",
    "\n",
    "def outer(a, b):\n",
    "    def inner(c, d):\n",
    "        return c + d\n",
    "    return inner(a, b)\n",
    "\n",
    "outer(4, 7)"
   ]
  },
  {
   "cell_type": "code",
   "execution_count": 20,
   "metadata": {},
   "outputs": [],
   "source": [
    "def knights(saying):\n",
    "    def inner(quote):\n",
    "        return \"We are the knights who say: '%s'\" % quote\n",
    "    return inner(saying)\n",
    "\n",
    "a = knights('Ni!')"
   ]
  },
  {
   "cell_type": "code",
   "execution_count": 21,
   "metadata": {},
   "outputs": [
    {
     "data": {
      "text/plain": [
       "str"
      ]
     },
     "execution_count": 21,
     "metadata": {},
     "output_type": "execute_result"
    }
   ],
   "source": [
    "type(a)"
   ]
  },
  {
   "cell_type": "code",
   "execution_count": 22,
   "metadata": {},
   "outputs": [
    {
     "data": {
      "text/plain": [
       "\"We are the knights who say: 'Ni!'\""
      ]
     },
     "execution_count": 22,
     "metadata": {},
     "output_type": "execute_result"
    }
   ],
   "source": [
    "a"
   ]
  },
  {
   "cell_type": "code",
   "execution_count": 23,
   "metadata": {},
   "outputs": [],
   "source": [
    "# closure\n",
    "def knights2(saying):\n",
    "    def inner2():\n",
    "        return \"We are the knights who say: '%s'\" % saying\n",
    "    return inner2\n",
    "\n",
    "a = knights2(\"Duck\")\n",
    "b = knights2(\"Hasenpfeffer\")"
   ]
  },
  {
   "cell_type": "code",
   "execution_count": 24,
   "metadata": {},
   "outputs": [
    {
     "data": {
      "text/plain": [
       "function"
      ]
     },
     "execution_count": 24,
     "metadata": {},
     "output_type": "execute_result"
    }
   ],
   "source": [
    "type(a)"
   ]
  },
  {
   "cell_type": "code",
   "execution_count": 26,
   "metadata": {},
   "outputs": [
    {
     "data": {
      "text/plain": [
       "function"
      ]
     },
     "execution_count": 26,
     "metadata": {},
     "output_type": "execute_result"
    }
   ],
   "source": [
    "type(b)"
   ]
  },
  {
   "cell_type": "code",
   "execution_count": 25,
   "metadata": {},
   "outputs": [
    {
     "data": {
      "text/plain": [
       "<function __main__.knights2.<locals>.inner2()>"
      ]
     },
     "execution_count": 25,
     "metadata": {},
     "output_type": "execute_result"
    }
   ],
   "source": [
    "a"
   ]
  },
  {
   "cell_type": "code",
   "execution_count": 27,
   "metadata": {},
   "outputs": [
    {
     "data": {
      "text/plain": [
       "<function __main__.knights2.<locals>.inner2()>"
      ]
     },
     "execution_count": 27,
     "metadata": {},
     "output_type": "execute_result"
    }
   ],
   "source": [
    "b"
   ]
  },
  {
   "cell_type": "code",
   "execution_count": 28,
   "metadata": {},
   "outputs": [
    {
     "data": {
      "text/plain": [
       "\"We are the knights who say: 'Duck'\""
      ]
     },
     "execution_count": 28,
     "metadata": {},
     "output_type": "execute_result"
    }
   ],
   "source": [
    "a()"
   ]
  },
  {
   "cell_type": "code",
   "execution_count": 29,
   "metadata": {},
   "outputs": [
    {
     "data": {
      "text/plain": [
       "\"We are the knights who say: 'Hasenpfeffer'\""
      ]
     },
     "execution_count": 29,
     "metadata": {},
     "output_type": "execute_result"
    }
   ],
   "source": [
    "b()"
   ]
  },
  {
   "cell_type": "code",
   "execution_count": 2,
   "metadata": {},
   "outputs": [
    {
     "name": "stdout",
     "output_type": "stream",
     "text": [
      "Thud!\n",
      "Meow!\n",
      "Thud!\n",
      "Hiss!\n"
     ]
    }
   ],
   "source": [
    "# lambda()\n",
    "\n",
    "def edit_story(words, func):\n",
    "    for word in words:\n",
    "        print(func(word))\n",
    "\n",
    "def enliven(word):\n",
    "    return word.capitalize() + '!'\n",
    "\n",
    "stairs = ['thud', 'meow', 'thud', 'hiss']\n",
    "\n",
    "edit_story(stairs, enliven)\n",
    "\n"
   ]
  },
  {
   "cell_type": "code",
   "execution_count": 3,
   "metadata": {},
   "outputs": [
    {
     "name": "stdout",
     "output_type": "stream",
     "text": [
      "Thud!\n",
      "Meow!\n",
      "Thud!\n",
      "Hiss!\n"
     ]
    }
   ],
   "source": [
    "edit_story(stairs, lambda word: word.capitalize() + '!')"
   ]
  },
  {
   "cell_type": "code",
   "execution_count": 4,
   "metadata": {},
   "outputs": [
    {
     "name": "stdout",
     "output_type": "stream",
     "text": [
      "3\n",
      "3\n"
     ]
    }
   ],
   "source": [
    "def add(x, y):\n",
    "    return x+y\n",
    "\n",
    "a = add(1,2)\n",
    "b = (lambda x, y: x+y)(1,2)\n",
    "print(a)\n",
    "print(b)"
   ]
  },
  {
   "cell_type": "code",
   "execution_count": 5,
   "metadata": {},
   "outputs": [
    {
     "name": "stdout",
     "output_type": "stream",
     "text": [
      "3\n",
      "3\n"
     ]
    }
   ],
   "source": [
    "def a(x, y):\n",
    "    return x+y\n",
    "b = lambda x, y: x+y\n",
    "print(a(1,2))\n",
    "print(b(1,2))"
   ]
  },
  {
   "cell_type": "code",
   "execution_count": null,
   "metadata": {},
   "outputs": [],
   "source": []
  },
  {
   "cell_type": "code",
   "execution_count": null,
   "metadata": {},
   "outputs": [],
   "source": [
    "# namespace & scope"
   ]
  },
  {
   "cell_type": "code",
   "execution_count": 1,
   "metadata": {},
   "outputs": [
    {
     "name": "stdout",
     "output_type": "stream",
     "text": [
      "at the top level: fruitbat\n",
      "inside print_global: fruitbat\n"
     ]
    }
   ],
   "source": [
    "# global variable\n",
    "\n",
    "animal = 'fruitbat'\n",
    "def print_global():\n",
    "    print('inside print_global:', animal)\n",
    "\n",
    "print('at the top level:', animal)\n",
    "print_global()"
   ]
  },
  {
   "cell_type": "code",
   "execution_count": 2,
   "metadata": {},
   "outputs": [
    {
     "ename": "UnboundLocalError",
     "evalue": "local variable 'animal' referenced before assignment",
     "output_type": "error",
     "traceback": [
      "\u001b[1;31m---------------------------------------------------------------------------\u001b[0m",
      "\u001b[1;31mUnboundLocalError\u001b[0m                         Traceback (most recent call last)",
      "\u001b[1;32m~\\AppData\\Local\\Temp\\ipykernel_15964\\2178615378.py\u001b[0m in \u001b[0;36m<module>\u001b[1;34m\u001b[0m\n\u001b[0;32m      4\u001b[0m     \u001b[0mprint\u001b[0m\u001b[1;33m(\u001b[0m\u001b[1;34m'after the change:'\u001b[0m\u001b[1;33m,\u001b[0m \u001b[0manimal\u001b[0m\u001b[1;33m)\u001b[0m\u001b[1;33m\u001b[0m\u001b[1;33m\u001b[0m\u001b[0m\n\u001b[0;32m      5\u001b[0m \u001b[1;33m\u001b[0m\u001b[0m\n\u001b[1;32m----> 6\u001b[1;33m \u001b[0mchange_and_print_global\u001b[0m\u001b[1;33m(\u001b[0m\u001b[1;33m)\u001b[0m\u001b[1;33m\u001b[0m\u001b[1;33m\u001b[0m\u001b[0m\n\u001b[0m",
      "\u001b[1;32m~\\AppData\\Local\\Temp\\ipykernel_15964\\2178615378.py\u001b[0m in \u001b[0;36mchange_and_print_global\u001b[1;34m()\u001b[0m\n\u001b[0;32m      1\u001b[0m \u001b[1;32mdef\u001b[0m \u001b[0mchange_and_print_global\u001b[0m\u001b[1;33m(\u001b[0m\u001b[1;33m)\u001b[0m\u001b[1;33m:\u001b[0m\u001b[1;33m\u001b[0m\u001b[1;33m\u001b[0m\u001b[0m\n\u001b[1;32m----> 2\u001b[1;33m     \u001b[0mprint\u001b[0m\u001b[1;33m(\u001b[0m\u001b[1;34m'inside change_and_print_global:'\u001b[0m\u001b[1;33m,\u001b[0m \u001b[0manimal\u001b[0m\u001b[1;33m)\u001b[0m\u001b[1;33m\u001b[0m\u001b[1;33m\u001b[0m\u001b[0m\n\u001b[0m\u001b[0;32m      3\u001b[0m     \u001b[0manimal\u001b[0m \u001b[1;33m=\u001b[0m \u001b[1;34m'wombat'\u001b[0m\u001b[1;33m\u001b[0m\u001b[1;33m\u001b[0m\u001b[0m\n\u001b[0;32m      4\u001b[0m     \u001b[0mprint\u001b[0m\u001b[1;33m(\u001b[0m\u001b[1;34m'after the change:'\u001b[0m\u001b[1;33m,\u001b[0m \u001b[0manimal\u001b[0m\u001b[1;33m)\u001b[0m\u001b[1;33m\u001b[0m\u001b[1;33m\u001b[0m\u001b[0m\n\u001b[0;32m      5\u001b[0m \u001b[1;33m\u001b[0m\u001b[0m\n",
      "\u001b[1;31mUnboundLocalError\u001b[0m: local variable 'animal' referenced before assignment"
     ]
    }
   ],
   "source": [
    "# error\n",
    "\n",
    "def change_and_print_global():\n",
    "    print('inside change_and_print_global:', animal)\n",
    "    animal = 'wombat'\n",
    "    print('after the change:', animal)\n",
    "\n",
    "change_and_print_global()"
   ]
  },
  {
   "cell_type": "code",
   "execution_count": 4,
   "metadata": {},
   "outputs": [
    {
     "name": "stdout",
     "output_type": "stream",
     "text": [
      "inside change_local: wombat 2192807145008\n"
     ]
    },
    {
     "data": {
      "text/plain": [
       "2192807323312"
      ]
     },
     "execution_count": 4,
     "metadata": {},
     "output_type": "execute_result"
    }
   ],
   "source": [
    "# local variable\n",
    "def change_local():\n",
    "    animal = 'wombat'\n",
    "    print('inside change_local:', animal, id(animal))\n",
    "\n",
    "change_local()\n",
    "\n",
    "animal = 'fruitbat'\n",
    "id(animal)"
   ]
  },
  {
   "cell_type": "code",
   "execution_count": 6,
   "metadata": {},
   "outputs": [],
   "source": [
    "animal = 'fruitbat'\n",
    "def change_and_print_global():\n",
    "    global animal\n",
    "    animal = 'wombat'\n",
    "    print('inside change_and_print_gloabl:', animal)"
   ]
  },
  {
   "cell_type": "code",
   "execution_count": 7,
   "metadata": {},
   "outputs": [
    {
     "data": {
      "text/plain": [
       "'fruitbat'"
      ]
     },
     "execution_count": 7,
     "metadata": {},
     "output_type": "execute_result"
    }
   ],
   "source": [
    "animal"
   ]
  },
  {
   "cell_type": "code",
   "execution_count": 9,
   "metadata": {},
   "outputs": [
    {
     "name": "stdout",
     "output_type": "stream",
     "text": [
      "inside change_and_print_gloabl: wombat\n"
     ]
    }
   ],
   "source": [
    "change_and_print_global()"
   ]
  },
  {
   "cell_type": "code",
   "execution_count": 10,
   "metadata": {},
   "outputs": [
    {
     "data": {
      "text/plain": [
       "'fruitbat'"
      ]
     },
     "execution_count": 10,
     "metadata": {},
     "output_type": "execute_result"
    }
   ],
   "source": [
    "# print local variable\n",
    "\n",
    "animal = 'fruitbat'\n",
    "def change_local():\n",
    "    animal = 'wombat'\n",
    "    print('locals', locals())\n",
    "\n",
    "animal"
   ]
  },
  {
   "cell_type": "code",
   "execution_count": 11,
   "metadata": {},
   "outputs": [
    {
     "name": "stdout",
     "output_type": "stream",
     "text": [
      "locals {'animal': 'wombat'}\n"
     ]
    }
   ],
   "source": [
    "change_local()"
   ]
  },
  {
   "cell_type": "code",
   "execution_count": 12,
   "metadata": {},
   "outputs": [
    {
     "name": "stdout",
     "output_type": "stream",
     "text": [
      "globals: {'__name__': '__main__', '__doc__': 'Automatically created module for IPython interactive environment', '__package__': None, '__loader__': None, '__spec__': None, '__builtin__': <module 'builtins' (built-in)>, '__builtins__': <module 'builtins' (built-in)>, '_ih': ['', \"# global variable\\nanimal = 'fruitbat'\\ndef print_global():\\n    print('inside print_global:', animal)\\n\\nprint('at the top level:', animal)\\nprint_global()\", \"def change_and_print_global():\\n    print('inside change_and_print_global:', animal)\\n    animal = 'wombat'\\n    print('after the change:', animal)\\n\\nchange_and_print_global()\", \"def change_local():\\n    animal = 'wombat'\\n    print('inside change_local:', animal, id(animal))\\n\\nchange_local()\", \"def change_local():\\n    animal = 'wombat'\\n    print('inside change_local:', animal, id(animal))\\n\\nchange_local()\\n\\nanimal = 'fruitbat'\\nid(animal)\", \"animal = 'fruitbat'\\ndef change_and_print_global():\\n    global animal\\n    animal = 'wombat'\\n    print('inside change_and_print_gloabl:', animal)\\n\\nanimal\\nchange_and_print_global()\", \"animal = 'fruitbat'\\ndef change_and_print_global():\\n    global animal\\n    animal = 'wombat'\\n    print('inside change_and_print_gloabl:', animal)\", 'animal', 'change_and_print_global', 'change_and_print_global()', \"animal = 'fruitbat'\\ndef change_local():\\n    animal = 'wombat'\\n    print('locals', locals())\\n\\nanimal\", 'change_local()', \"# print global variable\\n\\nprint('globals:', globals())\"], '_oh': {4: 2192807323312, 7: 'fruitbat', 8: <function change_and_print_global at 0x000001FE8D7E7700>, 10: 'fruitbat'}, '_dh': ['d:\\\\Python101'], 'In': ['', \"# global variable\\nanimal = 'fruitbat'\\ndef print_global():\\n    print('inside print_global:', animal)\\n\\nprint('at the top level:', animal)\\nprint_global()\", \"def change_and_print_global():\\n    print('inside change_and_print_global:', animal)\\n    animal = 'wombat'\\n    print('after the change:', animal)\\n\\nchange_and_print_global()\", \"def change_local():\\n    animal = 'wombat'\\n    print('inside change_local:', animal, id(animal))\\n\\nchange_local()\", \"def change_local():\\n    animal = 'wombat'\\n    print('inside change_local:', animal, id(animal))\\n\\nchange_local()\\n\\nanimal = 'fruitbat'\\nid(animal)\", \"animal = 'fruitbat'\\ndef change_and_print_global():\\n    global animal\\n    animal = 'wombat'\\n    print('inside change_and_print_gloabl:', animal)\\n\\nanimal\\nchange_and_print_global()\", \"animal = 'fruitbat'\\ndef change_and_print_global():\\n    global animal\\n    animal = 'wombat'\\n    print('inside change_and_print_gloabl:', animal)\", 'animal', 'change_and_print_global', 'change_and_print_global()', \"animal = 'fruitbat'\\ndef change_local():\\n    animal = 'wombat'\\n    print('locals', locals())\\n\\nanimal\", 'change_local()', \"# print global variable\\n\\nprint('globals:', globals())\"], 'Out': {4: 2192807323312, 7: 'fruitbat', 8: <function change_and_print_global at 0x000001FE8D7E7700>, 10: 'fruitbat'}, 'get_ipython': <bound method InteractiveShell.get_ipython of <ipykernel.zmqshell.ZMQInteractiveShell object at 0x000001FE8D6DE0A0>>, 'exit': <IPython.core.autocall.ZMQExitAutocall object at 0x000001FE8D78D220>, 'quit': <IPython.core.autocall.ZMQExitAutocall object at 0x000001FE8D78D220>, '_': 'fruitbat', '__': <function change_and_print_global at 0x000001FE8D7E7700>, '___': 'fruitbat', 'os': <module 'os' from 'c:\\\\Users\\\\a4022\\\\anaconda3\\\\lib\\\\os.py'>, 'sys': <module 'sys' (built-in)>, '__vsc_ipynb_file__': 'd:\\\\Python101\\\\function.ipynb', '_i': 'change_local()', '_ii': \"animal = 'fruitbat'\\ndef change_local():\\n    animal = 'wombat'\\n    print('locals', locals())\\n\\nanimal\", '_iii': 'change_and_print_global()', '_i1': \"# global variable\\nanimal = 'fruitbat'\\ndef print_global():\\n    print('inside print_global:', animal)\\n\\nprint('at the top level:', animal)\\nprint_global()\", 'animal': 'fruitbat', 'print_global': <function print_global at 0x000001FE8D7E74C0>, '_i2': \"def change_and_print_global():\\n    print('inside change_and_print_global:', animal)\\n    animal = 'wombat'\\n    print('after the change:', animal)\\n\\nchange_and_print_global()\", 'change_and_print_global': <function change_and_print_global at 0x000001FE8D7E7700>, '_i3': \"def change_local():\\n    animal = 'wombat'\\n    print('inside change_local:', animal, id(animal))\\n\\nchange_local()\", 'change_local': <function change_local at 0x000001FE8D7E7280>, '_i4': \"def change_local():\\n    animal = 'wombat'\\n    print('inside change_local:', animal, id(animal))\\n\\nchange_local()\\n\\nanimal = 'fruitbat'\\nid(animal)\", '_4': 2192807323312, '_i5': \"animal = 'fruitbat'\\ndef change_and_print_global():\\n    global animal\\n    animal = 'wombat'\\n    print('inside change_and_print_gloabl:', animal)\\n\\nanimal\\nchange_and_print_global()\", '_i6': \"animal = 'fruitbat'\\ndef change_and_print_global():\\n    global animal\\n    animal = 'wombat'\\n    print('inside change_and_print_gloabl:', animal)\", '_i7': 'animal', '_7': 'fruitbat', '_i8': 'change_and_print_global', '_8': <function change_and_print_global at 0x000001FE8D7E7700>, '_i9': 'change_and_print_global()', '_i10': \"animal = 'fruitbat'\\ndef change_local():\\n    animal = 'wombat'\\n    print('locals', locals())\\n\\nanimal\", '_10': 'fruitbat', '_i11': 'change_local()', '_i12': \"# print global variable\\n\\nprint('globals:', globals())\"}\n"
     ]
    }
   ],
   "source": [
    "# print global variable\n",
    "\n",
    "print('globals:', globals())"
   ]
  },
  {
   "cell_type": "code",
   "execution_count": 13,
   "metadata": {},
   "outputs": [
    {
     "data": {
      "text/plain": [
       "{'__name__': '__main__',\n",
       " '__doc__': 'Automatically created module for IPython interactive environment',\n",
       " '__package__': None,\n",
       " '__loader__': None,\n",
       " '__spec__': None,\n",
       " '__builtin__': <module 'builtins' (built-in)>,\n",
       " '__builtins__': <module 'builtins' (built-in)>,\n",
       " '_ih': ['',\n",
       "  \"# global variable\\nanimal = 'fruitbat'\\ndef print_global():\\n    print('inside print_global:', animal)\\n\\nprint('at the top level:', animal)\\nprint_global()\",\n",
       "  \"def change_and_print_global():\\n    print('inside change_and_print_global:', animal)\\n    animal = 'wombat'\\n    print('after the change:', animal)\\n\\nchange_and_print_global()\",\n",
       "  \"def change_local():\\n    animal = 'wombat'\\n    print('inside change_local:', animal, id(animal))\\n\\nchange_local()\",\n",
       "  \"def change_local():\\n    animal = 'wombat'\\n    print('inside change_local:', animal, id(animal))\\n\\nchange_local()\\n\\nanimal = 'fruitbat'\\nid(animal)\",\n",
       "  \"animal = 'fruitbat'\\ndef change_and_print_global():\\n    global animal\\n    animal = 'wombat'\\n    print('inside change_and_print_gloabl:', animal)\\n\\nanimal\\nchange_and_print_global()\",\n",
       "  \"animal = 'fruitbat'\\ndef change_and_print_global():\\n    global animal\\n    animal = 'wombat'\\n    print('inside change_and_print_gloabl:', animal)\",\n",
       "  'animal',\n",
       "  'change_and_print_global',\n",
       "  'change_and_print_global()',\n",
       "  \"animal = 'fruitbat'\\ndef change_local():\\n    animal = 'wombat'\\n    print('locals', locals())\\n\\nanimal\",\n",
       "  'change_local()',\n",
       "  \"# print global variable\\n\\nprint('globals:', globals())\",\n",
       "  'globals()'],\n",
       " '_oh': {4: 2192807323312,\n",
       "  7: 'fruitbat',\n",
       "  8: <function __main__.change_and_print_global()>,\n",
       "  10: 'fruitbat'},\n",
       " '_dh': ['d:\\\\Python101'],\n",
       " 'In': ['',\n",
       "  \"# global variable\\nanimal = 'fruitbat'\\ndef print_global():\\n    print('inside print_global:', animal)\\n\\nprint('at the top level:', animal)\\nprint_global()\",\n",
       "  \"def change_and_print_global():\\n    print('inside change_and_print_global:', animal)\\n    animal = 'wombat'\\n    print('after the change:', animal)\\n\\nchange_and_print_global()\",\n",
       "  \"def change_local():\\n    animal = 'wombat'\\n    print('inside change_local:', animal, id(animal))\\n\\nchange_local()\",\n",
       "  \"def change_local():\\n    animal = 'wombat'\\n    print('inside change_local:', animal, id(animal))\\n\\nchange_local()\\n\\nanimal = 'fruitbat'\\nid(animal)\",\n",
       "  \"animal = 'fruitbat'\\ndef change_and_print_global():\\n    global animal\\n    animal = 'wombat'\\n    print('inside change_and_print_gloabl:', animal)\\n\\nanimal\\nchange_and_print_global()\",\n",
       "  \"animal = 'fruitbat'\\ndef change_and_print_global():\\n    global animal\\n    animal = 'wombat'\\n    print('inside change_and_print_gloabl:', animal)\",\n",
       "  'animal',\n",
       "  'change_and_print_global',\n",
       "  'change_and_print_global()',\n",
       "  \"animal = 'fruitbat'\\ndef change_local():\\n    animal = 'wombat'\\n    print('locals', locals())\\n\\nanimal\",\n",
       "  'change_local()',\n",
       "  \"# print global variable\\n\\nprint('globals:', globals())\",\n",
       "  'globals()'],\n",
       " 'Out': {4: 2192807323312,\n",
       "  7: 'fruitbat',\n",
       "  8: <function __main__.change_and_print_global()>,\n",
       "  10: 'fruitbat'},\n",
       " 'get_ipython': <bound method InteractiveShell.get_ipython of <ipykernel.zmqshell.ZMQInteractiveShell object at 0x000001FE8D6DE0A0>>,\n",
       " 'exit': <IPython.core.autocall.ZMQExitAutocall at 0x1fe8d78d220>,\n",
       " 'quit': <IPython.core.autocall.ZMQExitAutocall at 0x1fe8d78d220>,\n",
       " '_': 'fruitbat',\n",
       " '__': <function __main__.change_and_print_global()>,\n",
       " '___': 'fruitbat',\n",
       " 'os': <module 'os' from 'c:\\\\Users\\\\a4022\\\\anaconda3\\\\lib\\\\os.py'>,\n",
       " 'sys': <module 'sys' (built-in)>,\n",
       " '__vsc_ipynb_file__': 'd:\\\\Python101\\\\function.ipynb',\n",
       " '_i': \"# print global variable\\n\\nprint('globals:', globals())\",\n",
       " '_ii': 'change_local()',\n",
       " '_iii': \"animal = 'fruitbat'\\ndef change_local():\\n    animal = 'wombat'\\n    print('locals', locals())\\n\\nanimal\",\n",
       " '_i1': \"# global variable\\nanimal = 'fruitbat'\\ndef print_global():\\n    print('inside print_global:', animal)\\n\\nprint('at the top level:', animal)\\nprint_global()\",\n",
       " 'animal': 'fruitbat',\n",
       " 'print_global': <function __main__.print_global()>,\n",
       " '_i2': \"def change_and_print_global():\\n    print('inside change_and_print_global:', animal)\\n    animal = 'wombat'\\n    print('after the change:', animal)\\n\\nchange_and_print_global()\",\n",
       " 'change_and_print_global': <function __main__.change_and_print_global()>,\n",
       " '_i3': \"def change_local():\\n    animal = 'wombat'\\n    print('inside change_local:', animal, id(animal))\\n\\nchange_local()\",\n",
       " 'change_local': <function __main__.change_local()>,\n",
       " '_i4': \"def change_local():\\n    animal = 'wombat'\\n    print('inside change_local:', animal, id(animal))\\n\\nchange_local()\\n\\nanimal = 'fruitbat'\\nid(animal)\",\n",
       " '_4': 2192807323312,\n",
       " '_i5': \"animal = 'fruitbat'\\ndef change_and_print_global():\\n    global animal\\n    animal = 'wombat'\\n    print('inside change_and_print_gloabl:', animal)\\n\\nanimal\\nchange_and_print_global()\",\n",
       " '_i6': \"animal = 'fruitbat'\\ndef change_and_print_global():\\n    global animal\\n    animal = 'wombat'\\n    print('inside change_and_print_gloabl:', animal)\",\n",
       " '_i7': 'animal',\n",
       " '_7': 'fruitbat',\n",
       " '_i8': 'change_and_print_global',\n",
       " '_8': <function __main__.change_and_print_global()>,\n",
       " '_i9': 'change_and_print_global()',\n",
       " '_i10': \"animal = 'fruitbat'\\ndef change_local():\\n    animal = 'wombat'\\n    print('locals', locals())\\n\\nanimal\",\n",
       " '_10': 'fruitbat',\n",
       " '_i11': 'change_local()',\n",
       " '_i12': \"# print global variable\\n\\nprint('globals:', globals())\",\n",
       " '_i13': 'globals()'}"
      ]
     },
     "execution_count": 13,
     "metadata": {},
     "output_type": "execute_result"
    }
   ],
   "source": [
    "globals()"
   ]
  },
  {
   "cell_type": "code",
   "execution_count": 14,
   "metadata": {},
   "outputs": [
    {
     "name": "stdout",
     "output_type": "stream",
     "text": [
      "This function is named: amazing\n",
      "And its docstring is: This is the amazing function.\n",
      "    Want to see it again?\n"
     ]
    }
   ],
   "source": [
    "# underscore\n",
    "def amazing():\n",
    "    \"\"\"This is the amazing function.\n",
    "    Want to see it again?\"\"\"\n",
    "    print('This function is named:', amazing.__name__)\n",
    "    print('And its docstring is:', amazing.__doc__)\n",
    "\n",
    "amazing()"
   ]
  },
  {
   "cell_type": "code",
   "execution_count": 15,
   "metadata": {},
   "outputs": [
    {
     "data": {
      "text/plain": [
       "list"
      ]
     },
     "execution_count": 15,
     "metadata": {},
     "output_type": "execute_result"
    }
   ],
   "source": [
    "type([])"
   ]
  },
  {
   "cell_type": "code",
   "execution_count": null,
   "metadata": {},
   "outputs": [],
   "source": []
  },
  {
   "cell_type": "code",
   "execution_count": 1,
   "metadata": {},
   "outputs": [],
   "source": [
    "# partial\n",
    "## https://zhuanlan.zhihu.com/p/47124891"
   ]
  },
  {
   "cell_type": "code",
   "execution_count": 1,
   "metadata": {},
   "outputs": [
    {
     "name": "stdout",
     "output_type": "stream",
     "text": [
      "106\n",
      "115\n",
      "106\n",
      "115\n"
     ]
    }
   ],
   "source": [
    "# method 1\n",
    "def add(*args):\n",
    "    return sum(args)\n",
    "\n",
    "print(add(1, 2, 3) + 100)\n",
    "print(add(5, 5, 5) + 100)\n",
    "\n",
    "# method 2\n",
    "def add(*args):\n",
    "    return sum(args) + 100\n",
    "\n",
    "print(add(1, 2, 3))\n",
    "print(add(5, 5, 5))"
   ]
  },
  {
   "cell_type": "code",
   "execution_count": 2,
   "metadata": {},
   "outputs": [
    {
     "name": "stdout",
     "output_type": "stream",
     "text": [
      "106\n",
      "107\n"
     ]
    }
   ],
   "source": [
    "# functools.partial(func, *args, **keywords)\n",
    "from functools import partial\n",
    "\n",
    "def add(*args):\n",
    "    return sum(args)\n",
    "\n",
    "add_100 = partial(add, 100)\n",
    "print(add_100(1, 2, 3))\n",
    "\n",
    "add_101 = partial(add, 101)\n",
    "print(add_101(1, 2, 3))"
   ]
  },
  {
   "cell_type": "code",
   "execution_count": 3,
   "metadata": {},
   "outputs": [
    {
     "name": "stdout",
     "output_type": "stream",
     "text": [
      "1\n",
      "2\n",
      "3\n",
      "--------------------\n",
      "v1:10\n",
      "v2:20\n"
     ]
    }
   ],
   "source": [
    "def add(*args, **kwargs):\n",
    "    # print args\n",
    "    for n in args:\n",
    "        print(n)\n",
    "    print(\"-\"*20)\n",
    "    # print kwargs\n",
    "    for k, v in kwargs.items():\n",
    "       print('%s:%s' % (k, v))\n",
    "\n",
    "add(1, 2, 3, v1=10, v2=20)"
   ]
  },
  {
   "cell_type": "code",
   "execution_count": 4,
   "metadata": {},
   "outputs": [
    {
     "name": "stdout",
     "output_type": "stream",
     "text": [
      "10\n",
      "1\n",
      "2\n",
      "3\n",
      "--------------------\n",
      "k1:10\n",
      "k2:20\n",
      "k3:20\n"
     ]
    }
   ],
   "source": [
    "# partial\n",
    "add_partial = partial(add, 10, k1=10, k2=20)\n",
    "add_partial(1, 2, 3, k3=20)"
   ]
  },
  {
   "cell_type": "code",
   "execution_count": 5,
   "metadata": {},
   "outputs": [
    {
     "name": "stdout",
     "output_type": "stream",
     "text": [
      "10\n",
      "1\n",
      "2\n",
      "3\n",
      "--------------------\n",
      "k1:20\n",
      "k2:20\n"
     ]
    }
   ],
   "source": [
    "add_partial(1, 2, 3, k1=20)"
   ]
  },
  {
   "cell_type": "code",
   "execution_count": null,
   "metadata": {},
   "outputs": [],
   "source": []
  }
 ],
 "metadata": {
  "kernelspec": {
   "display_name": "base",
   "language": "python",
   "name": "python3"
  },
  "language_info": {
   "codemirror_mode": {
    "name": "ipython",
    "version": 3
   },
   "file_extension": ".py",
   "mimetype": "text/x-python",
   "name": "python",
   "nbconvert_exporter": "python",
   "pygments_lexer": "ipython3",
   "version": "3.10.9"
  },
  "orig_nbformat": 4
 },
 "nbformat": 4,
 "nbformat_minor": 2
}
