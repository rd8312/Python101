{
 "cells": [
  {
   "cell_type": "code",
   "execution_count": 10,
   "metadata": {},
   "outputs": [],
   "source": [
    "def document_it(func):\n",
    "\tdef new_function(*args, **kwargs):\n",
    "\t\tprint('Running function:', func.__name__)\n",
    "\t\tprint('Positional arguments:', args)\n",
    "\t\tprint('Keyword arguments:', kwargs)\n",
    "\t\tresult = func(*args, **kwargs)\n",
    "\t\tprint('Result:', result)\n",
    "\t\treturn result\n",
    "\treturn new_function"
   ]
  },
  {
   "cell_type": "code",
   "execution_count": 11,
   "metadata": {},
   "outputs": [
    {
     "data": {
      "text/plain": [
       "8"
      ]
     },
     "execution_count": 11,
     "metadata": {},
     "output_type": "execute_result"
    }
   ],
   "source": [
    "def add_ints(a, b):\n",
    "\treturn a + b\n",
    "\n",
    "add_ints(3, 5) # output: 8"
   ]
  },
  {
   "cell_type": "code",
   "execution_count": 12,
   "metadata": {},
   "outputs": [
    {
     "name": "stdout",
     "output_type": "stream",
     "text": [
      "Running function: add_ints\n",
      "Positional arguments: (3, 5)\n",
      "Keyword arguments: {}\n",
      "Result: 8\n"
     ]
    },
    {
     "data": {
      "text/plain": [
       "8"
      ]
     },
     "execution_count": 12,
     "metadata": {},
     "output_type": "execute_result"
    }
   ],
   "source": [
    "cooler_add_ints = document_it(add_ints) # manual decorator assignment\n",
    "cooler_add_ints(3, 5)"
   ]
  },
  {
   "cell_type": "code",
   "execution_count": 14,
   "metadata": {},
   "outputs": [
    {
     "data": {
      "text/plain": [
       "<function __main__.document_it.<locals>.new_function(*args, **kwargs)>"
      ]
     },
     "execution_count": 14,
     "metadata": {},
     "output_type": "execute_result"
    }
   ],
   "source": [
    "cooler_add_ints"
   ]
  },
  {
   "cell_type": "code",
   "execution_count": 13,
   "metadata": {},
   "outputs": [
    {
     "name": "stdout",
     "output_type": "stream",
     "text": [
      "Running function: add_ints\n",
      "Positional arguments: (3, 5)\n",
      "Keyword arguments: {}\n",
      "Result: 8\n"
     ]
    },
    {
     "data": {
      "text/plain": [
       "8"
      ]
     },
     "execution_count": 13,
     "metadata": {},
     "output_type": "execute_result"
    }
   ],
   "source": [
    "@document_it\n",
    "def add_ints(a, b):\n",
    "\treturn a + b\n",
    "add_ints(3, 5)"
   ]
  },
  {
   "cell_type": "code",
   "execution_count": 18,
   "metadata": {},
   "outputs": [],
   "source": [
    "def document_it(func):\n",
    "\tdef new_function(*args, **kwargs):\n",
    "\t\tprint('Running function:', func.__name__)\n",
    "\t\tprint('Positional arguments:', args)\n",
    "\t\tprint('Keyword arguments:', kwargs)\n",
    "\t\tresult = func(*args, **kwargs)\n",
    "\t\tprint('Result:', result)\n",
    "\t\treturn result\n",
    "\treturn new_function\n",
    "\n",
    "def square_it(func):\n",
    "\tdef new_function(*args, **kwargs):\n",
    "\t\tresult = func(*args, **kwargs)\n",
    "\t\treturn result * result\n",
    "\treturn new_function"
   ]
  },
  {
   "cell_type": "code",
   "execution_count": 19,
   "metadata": {},
   "outputs": [
    {
     "name": "stdout",
     "output_type": "stream",
     "text": [
      "Running function: new_function\n",
      "Positional arguments: (3, 5)\n",
      "Keyword arguments: {}\n",
      "Result: 64\n"
     ]
    },
    {
     "data": {
      "text/plain": [
       "64"
      ]
     },
     "execution_count": 19,
     "metadata": {},
     "output_type": "execute_result"
    }
   ],
   "source": [
    "# 最靠近函式的裝飾器(在def正上方的)會先執行，接著是它上面的那個\n",
    "@document_it\n",
    "@square_it\n",
    "def add_ints(a, b):\n",
    "\treturn a + b\n",
    "add_ints(3, 5)"
   ]
  },
  {
   "cell_type": "code",
   "execution_count": 20,
   "metadata": {},
   "outputs": [
    {
     "name": "stdout",
     "output_type": "stream",
     "text": [
      "Running function: add_ints\n",
      "Positional arguments: (3, 5)\n",
      "Keyword arguments: {}\n",
      "Result: 8\n"
     ]
    },
    {
     "data": {
      "text/plain": [
       "64"
      ]
     },
     "execution_count": 20,
     "metadata": {},
     "output_type": "execute_result"
    }
   ],
   "source": [
    "@square_it\n",
    "@document_it\n",
    "def add_ints(a, b):\n",
    "\treturn a + b\n",
    "add_ints(3, 5)"
   ]
  },
  {
   "cell_type": "code",
   "execution_count": null,
   "metadata": {},
   "outputs": [],
   "source": []
  }
 ],
 "metadata": {
  "kernelspec": {
   "display_name": "base",
   "language": "python",
   "name": "python3"
  },
  "language_info": {
   "codemirror_mode": {
    "name": "ipython",
    "version": 3
   },
   "file_extension": ".py",
   "mimetype": "text/x-python",
   "name": "python",
   "nbconvert_exporter": "python",
   "pygments_lexer": "ipython3",
   "version": "3.11.5"
  }
 },
 "nbformat": 4,
 "nbformat_minor": 2
}
