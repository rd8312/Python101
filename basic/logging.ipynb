{
 "cells": [
  {
   "cell_type": "code",
   "execution_count": 1,
   "metadata": {},
   "outputs": [
    {
     "name": "stderr",
     "output_type": "stream",
     "text": [
      "WARNING:root:warning message\n",
      "ERROR:root:error message\n",
      "CRITICAL:root:critical message\n"
     ]
    }
   ],
   "source": [
    "# ref: https://editor.leonh.space/2022/python-log/\n",
    "## only output level >= 30\n",
    "import logging\n",
    "\n",
    "logging.debug('debug message') # level : 10\n",
    "logging.info('info message') # level : 20\n",
    "logging.warning('warning message')  # level : 30\n",
    "logging.error('error message')  # level : 40\n",
    "logging.critical('critical message')  # level : 50"
   ]
  },
  {
   "cell_type": "code",
   "execution_count": 1,
   "metadata": {},
   "outputs": [
    {
     "name": "stderr",
     "output_type": "stream",
     "text": [
      "debug message\n",
      "info message\n",
      "warning message\n",
      "error message\n",
      "critical message\n"
     ]
    }
   ],
   "source": [
    "import logging\n",
    "\n",
    "dev_logger: logging.Logger = logging.getLogger(name='dev')\n",
    "dev_logger.setLevel(logging.DEBUG)\n",
    "\n",
    "handler: logging.StreamHandler = logging.StreamHandler()\n",
    "dev_logger.addHandler(handler)\n",
    "\n",
    "dev_logger.debug('debug message')\n",
    "dev_logger.info('info message')\n",
    "dev_logger.warning('warning message')\n",
    "dev_logger.error('error message')\n",
    "dev_logger.critical('critical message')"
   ]
  },
  {
   "cell_type": "code",
   "execution_count": 3,
   "metadata": {},
   "outputs": [
    {
     "data": {
      "text/plain": [
       "<Logger dev (DEBUG)>"
      ]
     },
     "execution_count": 3,
     "metadata": {},
     "output_type": "execute_result"
    }
   ],
   "source": [
    "dev_logger"
   ]
  },
  {
   "cell_type": "code",
   "execution_count": 6,
   "metadata": {},
   "outputs": [
    {
     "data": {
      "text/plain": [
       "<StreamHandler stderr (NOTSET)>"
      ]
     },
     "execution_count": 6,
     "metadata": {},
     "output_type": "execute_result"
    }
   ],
   "source": [
    "handler"
   ]
  },
  {
   "cell_type": "code",
   "execution_count": 1,
   "metadata": {},
   "outputs": [
    {
     "name": "stderr",
     "output_type": "stream",
     "text": [
      "2023-03-10 16:24:44,836 - dev - DEBUG - debug message\n",
      "2023-03-10 16:24:44,837 - dev - INFO - info message\n",
      "2023-03-10 16:24:44,838 - dev - WARNING - warning message\n",
      "2023-03-10 16:24:44,839 - dev - ERROR - error message\n",
      "2023-03-10 16:24:44,841 - dev - CRITICAL - critical message\n"
     ]
    }
   ],
   "source": [
    "# Formatter\n",
    "import logging\n",
    "\n",
    "dev_logger: logging.Logger = logging.getLogger(name='dev')\n",
    "dev_logger.setLevel(logging.DEBUG)\n",
    "\n",
    "handler: logging.StreamHandler = logging.StreamHandler()\n",
    "formatter: logging.Formatter = logging.Formatter('%(asctime)s - %(name)s - %(levelname)s - %(message)s')\n",
    "handler.setFormatter(formatter)\n",
    "dev_logger.addHandler(handler)\n",
    "\n",
    "dev_logger.debug('debug message')\n",
    "dev_logger.info('info message')\n",
    "dev_logger.warning('warning message')\n",
    "dev_logger.error('error message')\n",
    "dev_logger.critical('critical message')"
   ]
  },
  {
   "cell_type": "code",
   "execution_count": 2,
   "metadata": {},
   "outputs": [
    {
     "data": {
      "text/plain": [
       "<Logger dev (DEBUG)>"
      ]
     },
     "execution_count": 2,
     "metadata": {},
     "output_type": "execute_result"
    }
   ],
   "source": [
    "dev_logger"
   ]
  },
  {
   "cell_type": "code",
   "execution_count": 4,
   "metadata": {},
   "outputs": [
    {
     "data": {
      "text/plain": [
       "<StreamHandler stderr (NOTSET)>"
      ]
     },
     "execution_count": 4,
     "metadata": {},
     "output_type": "execute_result"
    }
   ],
   "source": [
    "handler"
   ]
  },
  {
   "cell_type": "code",
   "execution_count": 3,
   "metadata": {},
   "outputs": [
    {
     "data": {
      "text/plain": [
       "<logging.Formatter at 0x204c067a070>"
      ]
     },
     "execution_count": 3,
     "metadata": {},
     "output_type": "execute_result"
    }
   ],
   "source": [
    "formatter"
   ]
  },
  {
   "cell_type": "code",
   "execution_count": null,
   "metadata": {},
   "outputs": [],
   "source": []
  }
 ],
 "metadata": {
  "kernelspec": {
   "display_name": "base",
   "language": "python",
   "name": "python3"
  },
  "language_info": {
   "codemirror_mode": {
    "name": "ipython",
    "version": 3
   },
   "file_extension": ".py",
   "mimetype": "text/x-python",
   "name": "python",
   "nbconvert_exporter": "python",
   "pygments_lexer": "ipython3",
   "version": "3.8.13"
  },
  "orig_nbformat": 4
 },
 "nbformat": 4,
 "nbformat_minor": 2
}
