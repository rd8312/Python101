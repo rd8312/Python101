{
 "cells": [
  {
   "cell_type": "markdown",
   "metadata": {},
   "source": [
    "## Mock: 使用Mock來patching方法\n",
    "\n",
    "Mock 物件的常見用法包含：\n",
    "\n",
    "1. Patching 方法\n",
    "2. 記錄在物件上的方法呼叫\n",
    "\n",
    "Reference:\n",
    "- [unittest.mock](https://docs.python.org/zh-tw/3/library/unittest.mock-examples.html)"
   ]
  },
  {
   "cell_type": "code",
   "execution_count": 15,
   "metadata": {},
   "outputs": [],
   "source": [
    "from unittest.mock import MagicMock, Mock, patch, call"
   ]
  },
  {
   "cell_type": "markdown",
   "metadata": {},
   "source": [
    "### 物件上的方法進行 patch"
   ]
  },
  {
   "cell_type": "code",
   "execution_count": 1,
   "metadata": {},
   "outputs": [],
   "source": [
    "# 一旦 mock 被呼叫，它的 called 屬性將被設定為 True\n",
    "\n",
    "from unittest.mock import MagicMock\n",
    "\n",
    "class ProductionClass:\n",
    "    def method(self):\n",
    "        self.something(1, 2, 3)\n",
    "    def something(self, a, b, c):\n",
    "        pass\n",
    "\n",
    "real = ProductionClass()\n",
    "real.something = MagicMock()\n",
    "real.method()\n",
    "real.something.assert_called_once_with(1, 2, 3) # 我們可以使用 assert_called_with() 或 assert_called_once_with() 方法來檢查它是否被使用正確的引數來呼叫"
   ]
  },
  {
   "cell_type": "markdown",
   "metadata": {},
   "source": [
    "### 將一個物件傳遞給一個方法（或受測系統的某一部分），然後檢查它是否以正確的方式被使用"
   ]
  },
  {
   "cell_type": "code",
   "execution_count": 1,
   "metadata": {},
   "outputs": [],
   "source": [
    "from unittest.mock import Mock\n",
    "class ProductionClass:\n",
    "    def closer(self, something):\n",
    "        something.close()\n",
    "\n",
    "real = ProductionClass()\n",
    "mock = Mock() # 不必做任何額外的事情來為 mock 提供 'close' 方法，存取 close 會建立它\n",
    "real.closer(mock)\n",
    "mock.close.assert_called_with()"
   ]
  },
  {
   "cell_type": "markdown",
   "metadata": {},
   "source": [
    "## Mock類別\n",
    "- 一個常見的使用案例是在測試的時候 `mock 被程式碼實例化的類別`\n",
    "- 當你 patch 一個類別時，該類別就會被替換為 mock\n",
    "- 實例是透過 `呼叫類別建立的`，這代表你可以透過查看 `被 mock 的類別的回傳值來存取「mock 實例」`"
   ]
  },
  {
   "cell_type": "code",
   "execution_count": 4,
   "metadata": {},
   "outputs": [],
   "source": [
    "from unittest.mock import patch\n",
    "class Foo:\n",
    "    \n",
    "    def __init__(self):\n",
    "        pass\n",
    "\n",
    "    def method(self):\n",
    "        return \"foo result\"\n",
    "\n",
    "def some_function():\n",
    "    # instance = module.Foo() # 某個module下的class\n",
    "    instance = Foo()\n",
    "    return instance.method()\n",
    "\n",
    "# with patch('module.Foo') as mock:\n",
    "with patch('__main__.Foo') as mock:\n",
    "    instance = mock.return_value\n",
    "    instance.method.return_value = 'the result'\n",
    "    result = some_function()\n",
    "    assert result == 'the result'"
   ]
  },
  {
   "cell_type": "code",
   "execution_count": 5,
   "metadata": {},
   "outputs": [
    {
     "ename": "AssertionError",
     "evalue": "",
     "output_type": "error",
     "traceback": [
      "\u001b[1;31m---------------------------------------------------------------------------\u001b[0m",
      "\u001b[1;31mAssertionError\u001b[0m                            Traceback (most recent call last)",
      "Cell \u001b[1;32mIn[5], line 6\u001b[0m\n\u001b[0;32m      4\u001b[0m instance\u001b[38;5;241m.\u001b[39mmethod\u001b[38;5;241m.\u001b[39mreturn_value \u001b[38;5;241m=\u001b[39m \u001b[38;5;124m'\u001b[39m\u001b[38;5;124mthe result\u001b[39m\u001b[38;5;124m'\u001b[39m\n\u001b[0;32m      5\u001b[0m result \u001b[38;5;241m=\u001b[39m some_function()\n\u001b[1;32m----> 6\u001b[0m \u001b[38;5;28;01massert\u001b[39;00m result \u001b[38;5;241m==\u001b[39m \u001b[38;5;124m'\u001b[39m\u001b[38;5;124mfoo result\u001b[39m\u001b[38;5;124m'\u001b[39m\n",
      "\u001b[1;31mAssertionError\u001b[0m: "
     ]
    }
   ],
   "source": [
    "# with patch('module.Foo') as mock:\n",
    "with patch('__main__.Foo') as mock:\n",
    "    instance = mock.return_value\n",
    "    instance.method.return_value = 'the result'\n",
    "    result = some_function()\n",
    "    assert result == 'foo result'"
   ]
  },
  {
   "cell_type": "markdown",
   "metadata": {},
   "source": [
    "### 命名你的 mock\n",
    "- 為你的 mock 命名可能會很有用，這個名稱會顯示在 mock 的 repr 中，且當 mock 出現在測試的失敗訊息中時，名稱會很有幫助"
   ]
  },
  {
   "cell_type": "code",
   "execution_count": 8,
   "metadata": {},
   "outputs": [
    {
     "data": {
      "text/plain": [
       "<MagicMock name='foo' id='1799326941264'>"
      ]
     },
     "execution_count": 8,
     "metadata": {},
     "output_type": "execute_result"
    }
   ],
   "source": [
    "mock = MagicMock(name='foo')\n",
    "mock"
   ]
  },
  {
   "cell_type": "code",
   "execution_count": 10,
   "metadata": {},
   "outputs": [
    {
     "data": {
      "text/plain": [
       "<MagicMock name='foo.method' id='1799347054608'>"
      ]
     },
     "execution_count": 10,
     "metadata": {},
     "output_type": "execute_result"
    }
   ],
   "source": [
    "mock.method"
   ]
  },
  {
   "cell_type": "markdown",
   "metadata": {},
   "source": [
    "### 追蹤所有呼叫"
   ]
  },
  {
   "cell_type": "code",
   "execution_count": 11,
   "metadata": {},
   "outputs": [
    {
     "data": {
      "text/plain": [
       "<MagicMock name='mock.method()' id='1799326928208'>"
      ]
     },
     "execution_count": 11,
     "metadata": {},
     "output_type": "execute_result"
    }
   ],
   "source": [
    "# 通常你會想要追蹤對一個方法的多個呼叫\n",
    "# mock_calls 屬性記錄對 mock 的子屬性以及其子屬性的所有呼叫\n",
    "mock = MagicMock()\n",
    "mock.method()"
   ]
  },
  {
   "cell_type": "code",
   "execution_count": 12,
   "metadata": {},
   "outputs": [
    {
     "data": {
      "text/plain": [
       "[call.method()]"
      ]
     },
     "execution_count": 12,
     "metadata": {},
     "output_type": "execute_result"
    }
   ],
   "source": [
    "mock.mock_calls"
   ]
  },
  {
   "cell_type": "code",
   "execution_count": 13,
   "metadata": {},
   "outputs": [
    {
     "data": {
      "text/plain": [
       "<MagicMock name='mock.attribute.method()' id='1799326940752'>"
      ]
     },
     "execution_count": 13,
     "metadata": {},
     "output_type": "execute_result"
    }
   ],
   "source": [
    "mock.attribute.method(10, x=53)"
   ]
  },
  {
   "cell_type": "code",
   "execution_count": 14,
   "metadata": {},
   "outputs": [
    {
     "data": {
      "text/plain": [
       "[call.method(), call.attribute.method(10, x=53)]"
      ]
     },
     "execution_count": 14,
     "metadata": {},
     "output_type": "execute_result"
    }
   ],
   "source": [
    "mock.mock_calls"
   ]
  },
  {
   "cell_type": "code",
   "execution_count": 16,
   "metadata": {},
   "outputs": [
    {
     "data": {
      "text/plain": [
       "True"
      ]
     },
     "execution_count": 16,
     "metadata": {},
     "output_type": "execute_result"
    }
   ],
   "source": [
    "# 你可以使用 call 物件來建構串列以與 mock_calls 進行比較：\n",
    "expected = [call.method(), call.attribute.method(10, x=53)]\n",
    "mock.mock_calls == expected"
   ]
  },
  {
   "cell_type": "code",
   "execution_count": 17,
   "metadata": {},
   "outputs": [
    {
     "data": {
      "text/plain": [
       "<Mock name='mock.factory().deliver()' id='1799326920848'>"
      ]
     },
     "execution_count": 17,
     "metadata": {},
     "output_type": "execute_result"
    }
   ],
   "source": [
    "# 回傳 mock 的呼叫的參數不會被記錄\n",
    "m = Mock()\n",
    "m.factory(important=True).deliver()"
   ]
  },
  {
   "cell_type": "code",
   "execution_count": 18,
   "metadata": {},
   "outputs": [
    {
     "data": {
      "text/plain": [
       "[call.factory(important=True), call.factory().deliver()]"
      ]
     },
     "execution_count": 18,
     "metadata": {},
     "output_type": "execute_result"
    }
   ],
   "source": [
    "m.mock_calls"
   ]
  },
  {
   "cell_type": "code",
   "execution_count": 20,
   "metadata": {},
   "outputs": [
    {
     "data": {
      "text/plain": [
       "True"
      ]
     },
     "execution_count": 20,
     "metadata": {},
     "output_type": "execute_result"
    }
   ],
   "source": [
    "# 因為沒有記錄所以會被視為是 True\n",
    "m.mock_calls[-1] == call.factory(important=False).deliver()"
   ]
  },
  {
   "cell_type": "markdown",
   "metadata": {},
   "source": [
    "### 設定回傳值和屬性"
   ]
  },
  {
   "cell_type": "code",
   "execution_count": 21,
   "metadata": {},
   "outputs": [
    {
     "data": {
      "text/plain": [
       "3"
      ]
     },
     "execution_count": 21,
     "metadata": {},
     "output_type": "execute_result"
    }
   ],
   "source": [
    "# 在 mock 物件上設定回傳值\n",
    "mock = Mock()\n",
    "mock.return_value = 3\n",
    "mock()"
   ]
  },
  {
   "cell_type": "code",
   "execution_count": 22,
   "metadata": {},
   "outputs": [
    {
     "data": {
      "text/plain": [
       "3"
      ]
     },
     "execution_count": 22,
     "metadata": {},
     "output_type": "execute_result"
    }
   ],
   "source": [
    "# 可以對 mock 上的方法執行相同的操作\n",
    "mock = Mock()\n",
    "mock.method.return_value = 3\n",
    "mock.method()"
   ]
  },
  {
   "cell_type": "code",
   "execution_count": 23,
   "metadata": {},
   "outputs": [
    {
     "data": {
      "text/plain": [
       "3"
      ]
     },
     "execution_count": 23,
     "metadata": {},
     "output_type": "execute_result"
    }
   ],
   "source": [
    "# 回傳值也可以在建構函式中\n",
    "mock = Mock(return_value=3)\n",
    "mock()"
   ]
  },
  {
   "cell_type": "code",
   "execution_count": 24,
   "metadata": {},
   "outputs": [
    {
     "data": {
      "text/plain": [
       "3"
      ]
     },
     "execution_count": 24,
     "metadata": {},
     "output_type": "execute_result"
    }
   ],
   "source": [
    "# 在 mock 上進行屬性設置\n",
    "mock = Mock()\n",
    "mock.x = 3\n",
    "mock.x"
   ]
  },
  {
   "cell_type": "code",
   "execution_count": null,
   "metadata": {},
   "outputs": [],
   "source": []
  }
 ],
 "metadata": {
  "kernelspec": {
   "display_name": "base",
   "language": "python",
   "name": "python3"
  },
  "language_info": {
   "codemirror_mode": {
    "name": "ipython",
    "version": 3
   },
   "file_extension": ".py",
   "mimetype": "text/x-python",
   "name": "python",
   "nbconvert_exporter": "python",
   "pygments_lexer": "ipython3",
   "version": "3.11.5"
  }
 },
 "nbformat": 4,
 "nbformat_minor": 2
}
